{
  "nbformat": 4,
  "nbformat_minor": 0,
  "metadata": {
    "colab": {
      "name": "Day-wise Total Patient Count of All Deptartments in Lal Bahadur Shastri Hospital, Khichripur, Delhi from 01/07/2011 to 31/07/2011 Day-wi.ipynb",
      "provenance": []
    },
    "kernelspec": {
      "name": "python3",
      "display_name": "Python 3"
    }
  },
  "cells": [
    {
      "cell_type": "code",
      "metadata": {
        "id": "U2PUugHF1na9"
      },
      "source": [
        "#Import all required packages\n",
        "import requests\n",
        "import pandas as pd\n",
        "import io"
      ],
      "execution_count": 1,
      "outputs": []
    },
    {
      "cell_type": "code",
      "metadata": {
        "id": "iOfYbkKg19Al"
      },
      "source": [
        "#Load the Data set Through URL\n",
        "urlData = requests.get(\"https://api.data.gov.in/resource/258385f6-1f5b-4028-b104-215eb4a5bc1b?api-key=579b464db66ec23bdd0000015afe42009a124ab6502fddaecc169660&format=csv&limit=100\").content\n",
        "#Converting the data to pandas dataframe.\n",
        "df = pd.read_csv(io.StringIO(urlData.decode('utf-8')))"
      ],
      "execution_count": 2,
      "outputs": []
    },
    {
      "cell_type": "markdown",
      "metadata": {
        "id": "R2rkZyor9euk"
      },
      "source": [
        "#Exploring the Data set"
      ]
    },
    {
      "cell_type": "code",
      "metadata": {
        "id": "DQ8RNfVy2nnk",
        "outputId": "26bb51e1-7392-4521-9808-42d997b2ad46",
        "colab": {
          "base_uri": "https://localhost:8080/",
          "height": 206
        }
      },
      "source": [
        "df.head()"
      ],
      "execution_count": 3,
      "outputs": [
        {
          "output_type": "execute_result",
          "data": {
            "text/html": [
              "<div>\n",
              "<style scoped>\n",
              "    .dataframe tbody tr th:only-of-type {\n",
              "        vertical-align: middle;\n",
              "    }\n",
              "\n",
              "    .dataframe tbody tr th {\n",
              "        vertical-align: top;\n",
              "    }\n",
              "\n",
              "    .dataframe thead th {\n",
              "        text-align: right;\n",
              "    }\n",
              "</style>\n",
              "<table border=\"1\" class=\"dataframe\">\n",
              "  <thead>\n",
              "    <tr style=\"text-align: right;\">\n",
              "      <th></th>\n",
              "      <th>Period</th>\n",
              "      <th>New</th>\n",
              "      <th>Old</th>\n",
              "      <th>Total</th>\n",
              "    </tr>\n",
              "  </thead>\n",
              "  <tbody>\n",
              "    <tr>\n",
              "      <th>0</th>\n",
              "      <td>7/1/2011</td>\n",
              "      <td>1492</td>\n",
              "      <td>612</td>\n",
              "      <td>2104</td>\n",
              "    </tr>\n",
              "    <tr>\n",
              "      <th>1</th>\n",
              "      <td>7/2/2011</td>\n",
              "      <td>1119</td>\n",
              "      <td>343</td>\n",
              "      <td>1462</td>\n",
              "    </tr>\n",
              "    <tr>\n",
              "      <th>2</th>\n",
              "      <td>7/4/2011</td>\n",
              "      <td>1570</td>\n",
              "      <td>866</td>\n",
              "      <td>2436</td>\n",
              "    </tr>\n",
              "    <tr>\n",
              "      <th>3</th>\n",
              "      <td>7/5/2011</td>\n",
              "      <td>1458</td>\n",
              "      <td>524</td>\n",
              "      <td>1982</td>\n",
              "    </tr>\n",
              "    <tr>\n",
              "      <th>4</th>\n",
              "      <td>7/6/2011</td>\n",
              "      <td>1399</td>\n",
              "      <td>572</td>\n",
              "      <td>1971</td>\n",
              "    </tr>\n",
              "  </tbody>\n",
              "</table>\n",
              "</div>"
            ],
            "text/plain": [
              "     Period   New  Old  Total\n",
              "0  7/1/2011  1492  612   2104\n",
              "1  7/2/2011  1119  343   1462\n",
              "2  7/4/2011  1570  866   2436\n",
              "3  7/5/2011  1458  524   1982\n",
              "4  7/6/2011  1399  572   1971"
            ]
          },
          "metadata": {
            "tags": []
          },
          "execution_count": 3
        }
      ]
    },
    {
      "cell_type": "code",
      "metadata": {
        "id": "krqGG39-2qLp",
        "outputId": "bc88c675-5cc1-4e98-e0eb-aefa4ec04f8a",
        "colab": {
          "base_uri": "https://localhost:8080/",
          "height": 206
        }
      },
      "source": [
        "df.tail()"
      ],
      "execution_count": 4,
      "outputs": [
        {
          "output_type": "execute_result",
          "data": {
            "text/html": [
              "<div>\n",
              "<style scoped>\n",
              "    .dataframe tbody tr th:only-of-type {\n",
              "        vertical-align: middle;\n",
              "    }\n",
              "\n",
              "    .dataframe tbody tr th {\n",
              "        vertical-align: top;\n",
              "    }\n",
              "\n",
              "    .dataframe thead th {\n",
              "        text-align: right;\n",
              "    }\n",
              "</style>\n",
              "<table border=\"1\" class=\"dataframe\">\n",
              "  <thead>\n",
              "    <tr style=\"text-align: right;\">\n",
              "      <th></th>\n",
              "      <th>Period</th>\n",
              "      <th>New</th>\n",
              "      <th>Old</th>\n",
              "      <th>Total</th>\n",
              "    </tr>\n",
              "  </thead>\n",
              "  <tbody>\n",
              "    <tr>\n",
              "      <th>22</th>\n",
              "      <td>7/27/2011</td>\n",
              "      <td>1583</td>\n",
              "      <td>545</td>\n",
              "      <td>2128</td>\n",
              "    </tr>\n",
              "    <tr>\n",
              "      <th>23</th>\n",
              "      <td>7/28/2011</td>\n",
              "      <td>1454</td>\n",
              "      <td>659</td>\n",
              "      <td>2113</td>\n",
              "    </tr>\n",
              "    <tr>\n",
              "      <th>24</th>\n",
              "      <td>7/29/2011</td>\n",
              "      <td>1525</td>\n",
              "      <td>684</td>\n",
              "      <td>2209</td>\n",
              "    </tr>\n",
              "    <tr>\n",
              "      <th>25</th>\n",
              "      <td>7/30/2011</td>\n",
              "      <td>1297</td>\n",
              "      <td>654</td>\n",
              "      <td>1951</td>\n",
              "    </tr>\n",
              "    <tr>\n",
              "      <th>26</th>\n",
              "      <td>Grand Total</td>\n",
              "      <td>36933</td>\n",
              "      <td>14586</td>\n",
              "      <td>51519</td>\n",
              "    </tr>\n",
              "  </tbody>\n",
              "</table>\n",
              "</div>"
            ],
            "text/plain": [
              "         Period    New    Old  Total\n",
              "22    7/27/2011   1583    545   2128\n",
              "23    7/28/2011   1454    659   2113\n",
              "24    7/29/2011   1525    684   2209\n",
              "25    7/30/2011   1297    654   1951\n",
              "26  Grand Total  36933  14586  51519"
            ]
          },
          "metadata": {
            "tags": []
          },
          "execution_count": 4
        }
      ]
    },
    {
      "cell_type": "code",
      "metadata": {
        "id": "-UBIdXlc4Ye4",
        "outputId": "ebe51565-f377-4200-d31e-d4fe71eb5c91",
        "colab": {
          "base_uri": "https://localhost:8080/",
          "height": 35
        }
      },
      "source": [
        "df.shape"
      ],
      "execution_count": 5,
      "outputs": [
        {
          "output_type": "execute_result",
          "data": {
            "text/plain": [
              "(27, 4)"
            ]
          },
          "metadata": {
            "tags": []
          },
          "execution_count": 5
        }
      ]
    },
    {
      "cell_type": "code",
      "metadata": {
        "id": "lnmp4goI9r1D",
        "outputId": "260f6c66-d122-468d-8d99-46e15b6492c6",
        "colab": {
          "base_uri": "https://localhost:8080/",
          "height": 300
        }
      },
      "source": [
        "df.describe()"
      ],
      "execution_count": 6,
      "outputs": [
        {
          "output_type": "execute_result",
          "data": {
            "text/html": [
              "<div>\n",
              "<style scoped>\n",
              "    .dataframe tbody tr th:only-of-type {\n",
              "        vertical-align: middle;\n",
              "    }\n",
              "\n",
              "    .dataframe tbody tr th {\n",
              "        vertical-align: top;\n",
              "    }\n",
              "\n",
              "    .dataframe thead th {\n",
              "        text-align: right;\n",
              "    }\n",
              "</style>\n",
              "<table border=\"1\" class=\"dataframe\">\n",
              "  <thead>\n",
              "    <tr style=\"text-align: right;\">\n",
              "      <th></th>\n",
              "      <th>New</th>\n",
              "      <th>Old</th>\n",
              "      <th>Total</th>\n",
              "    </tr>\n",
              "  </thead>\n",
              "  <tbody>\n",
              "    <tr>\n",
              "      <th>count</th>\n",
              "      <td>27.000000</td>\n",
              "      <td>27.000000</td>\n",
              "      <td>27.000000</td>\n",
              "    </tr>\n",
              "    <tr>\n",
              "      <th>mean</th>\n",
              "      <td>2735.777778</td>\n",
              "      <td>1080.444444</td>\n",
              "      <td>3816.222222</td>\n",
              "    </tr>\n",
              "    <tr>\n",
              "      <th>std</th>\n",
              "      <td>6836.036652</td>\n",
              "      <td>2701.297684</td>\n",
              "      <td>9535.958430</td>\n",
              "    </tr>\n",
              "    <tr>\n",
              "      <th>min</th>\n",
              "      <td>1119.000000</td>\n",
              "      <td>343.000000</td>\n",
              "      <td>1462.000000</td>\n",
              "    </tr>\n",
              "    <tr>\n",
              "      <th>25%</th>\n",
              "      <td>1344.000000</td>\n",
              "      <td>514.000000</td>\n",
              "      <td>1840.000000</td>\n",
              "    </tr>\n",
              "    <tr>\n",
              "      <th>50%</th>\n",
              "      <td>1454.000000</td>\n",
              "      <td>574.000000</td>\n",
              "      <td>2002.000000</td>\n",
              "    </tr>\n",
              "    <tr>\n",
              "      <th>75%</th>\n",
              "      <td>1553.000000</td>\n",
              "      <td>632.500000</td>\n",
              "      <td>2153.500000</td>\n",
              "    </tr>\n",
              "    <tr>\n",
              "      <th>max</th>\n",
              "      <td>36933.000000</td>\n",
              "      <td>14586.000000</td>\n",
              "      <td>51519.000000</td>\n",
              "    </tr>\n",
              "  </tbody>\n",
              "</table>\n",
              "</div>"
            ],
            "text/plain": [
              "                New           Old         Total\n",
              "count     27.000000     27.000000     27.000000\n",
              "mean    2735.777778   1080.444444   3816.222222\n",
              "std     6836.036652   2701.297684   9535.958430\n",
              "min     1119.000000    343.000000   1462.000000\n",
              "25%     1344.000000    514.000000   1840.000000\n",
              "50%     1454.000000    574.000000   2002.000000\n",
              "75%     1553.000000    632.500000   2153.500000\n",
              "max    36933.000000  14586.000000  51519.000000"
            ]
          },
          "metadata": {
            "tags": []
          },
          "execution_count": 6
        }
      ]
    },
    {
      "cell_type": "code",
      "metadata": {
        "id": "Y0G3bKfp9vfh",
        "outputId": "2bfe556e-87ae-4327-ea4f-d204bde218a9",
        "colab": {
          "base_uri": "https://localhost:8080/",
          "height": 109
        }
      },
      "source": [
        "df.dtypes"
      ],
      "execution_count": 7,
      "outputs": [
        {
          "output_type": "execute_result",
          "data": {
            "text/plain": [
              "Period    object\n",
              "New        int64\n",
              "Old        int64\n",
              "Total      int64\n",
              "dtype: object"
            ]
          },
          "metadata": {
            "tags": []
          },
          "execution_count": 7
        }
      ]
    },
    {
      "cell_type": "code",
      "metadata": {
        "id": "9C3yl0gv_z8p",
        "outputId": "e2f4f464-6ecd-404c-da2a-0818dfdcaae3",
        "colab": {
          "base_uri": "https://localhost:8080/",
          "height": 35
        }
      },
      "source": [
        "df.columns"
      ],
      "execution_count": 8,
      "outputs": [
        {
          "output_type": "execute_result",
          "data": {
            "text/plain": [
              "Index(['Period', 'New', 'Old', 'Total'], dtype='object')"
            ]
          },
          "metadata": {
            "tags": []
          },
          "execution_count": 8
        }
      ]
    },
    {
      "cell_type": "markdown",
      "metadata": {
        "id": "RJmSwhov98c5"
      },
      "source": [
        "#Cleaning the Data set"
      ]
    },
    {
      "cell_type": "code",
      "metadata": {
        "id": "GAHcUDm691PX",
        "outputId": "6371ce54-4a5e-4594-b9e9-0e4a2a993321",
        "colab": {
          "base_uri": "https://localhost:8080/",
          "height": 35
        }
      },
      "source": [
        "#Check nan and null values from the Data set\n",
        "df.isnull().sum().sum()"
      ],
      "execution_count": 9,
      "outputs": [
        {
          "output_type": "execute_result",
          "data": {
            "text/plain": [
              "0"
            ]
          },
          "metadata": {
            "tags": []
          },
          "execution_count": 9
        }
      ]
    },
    {
      "cell_type": "markdown",
      "metadata": {
        "id": "csRHitm9-KI7"
      },
      "source": [
        "#Visulization the Data set"
      ]
    },
    {
      "cell_type": "code",
      "metadata": {
        "id": "bJmRtQsv-B50"
      },
      "source": [
        "import matplotlib.pyplot as plt\n",
        "import seaborn as sns"
      ],
      "execution_count": 10,
      "outputs": []
    },
    {
      "cell_type": "markdown",
      "metadata": {
        "id": "r8FpV3RRA8eM"
      },
      "source": [
        "#Pair plot"
      ]
    },
    {
      "cell_type": "code",
      "metadata": {
        "id": "6lQuIK4I-vKv",
        "outputId": "16089f72-3411-4083-ba9e-d32f9b9cd04e",
        "colab": {
          "base_uri": "https://localhost:8080/",
          "height": 568
        }
      },
      "source": [
        "#Pair plot\n",
        "sns.pairplot(df,palette=\"Set2\")"
      ],
      "execution_count": 11,
      "outputs": [
        {
          "output_type": "execute_result",
          "data": {
            "text/plain": [
              "<seaborn.axisgrid.PairGrid at 0x7fb49418b6d8>"
            ]
          },
          "metadata": {
            "tags": []
          },
          "execution_count": 11
        },
        {
          "output_type": "display_data",
          "data": {
            "image/png": "[encoded data removed]",
            "text/plain": [
              "<Figure size 540x540 with 12 Axes>"
            ]
          },
          "metadata": {
            "tags": [],
            "needs_background": "light"
          }
        }
      ]
    },
    {
      "cell_type": "markdown",
      "metadata": {
        "id": "nSzGr9u2AjuE"
      },
      "source": [
        "#distplot"
      ]
    },
    {
      "cell_type": "code",
      "metadata": {
        "id": "MrBBrArr-_j6",
        "outputId": "85edb5fa-2801-4b2f-d8ad-5162263d9549",
        "colab": {
          "base_uri": "https://localhost:8080/",
          "height": 354
        }
      },
      "source": [
        "sns.set_style('whitegrid')\n",
        "sns.distplot(df['Total'],kde = False, color ='black', bins = 50)"
      ],
      "execution_count": 12,
      "outputs": [
        {
          "output_type": "stream",
          "text": [
            "/usr/local/lib/python3.6/dist-packages/seaborn/distributions.py:2551: FutureWarning: `distplot` is a deprecated function and will be removed in a future version. Please adapt your code to use either `displot` (a figure-level function with similar flexibility) or `histplot` (an axes-level function for histograms).\n",
            "  warnings.warn(msg, FutureWarning)\n"
          ],
          "name": "stderr"
        },
        {
          "output_type": "execute_result",
          "data": {
            "text/plain": [
              "<matplotlib.axes._subplots.AxesSubplot at 0x7fb4903cfba8>"
            ]
          },
          "metadata": {
            "tags": []
          },
          "execution_count": 12
        },
        {
          "output_type": "display_data",
          "data": {
            "image/png": "[encoded data removed]",
            "text/plain": [
              "<Figure size 432x288 with 1 Axes>"
            ]
          },
          "metadata": {
            "tags": []
          }
        }
      ]
    },
    {
      "cell_type": "code",
      "metadata": {
        "id": "nro-SMFjDImG"
      },
      "source": [
        ""
      ],
      "execution_count": null,
      "outputs": []
    }
  ]
}