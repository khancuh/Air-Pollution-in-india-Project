{
  "nbformat": 4,
  "nbformat_minor": 0,
  "metadata": {
    "colab": {
      "name": "Air Pollution in india.ipynb",
      "provenance": [],
      "collapsed_sections": []
    },
    "kernelspec": {
      "name": "python3",
      "display_name": "Python 3"
    }
  },
  "cells": [
    {
      "cell_type": "code",
      "metadata": {
        "id": "uVnWFp8LFQlT"
      },
      "source": [
        "#Import all required packages\n",
        "import requests\n",
        "import pandas as pd\n",
        "import io"
      ],
      "execution_count": 1,
      "outputs": []
    },
    {
      "cell_type": "code",
      "metadata": {
        "id": "mAyamufTfq4o"
      },
      "source": [
        "#Load the Data set Through URL\n",
        "urlData = requests.get(\"https://api.data.gov.in/resource/3b01bcb8-0b14-4abf-b6f2-c1bfd384ba69?api-key=579b464db66ec23bdd0000015afe42009a124ab6502fddaecc169660&format=csv&offset=0&limit=200\").content\n",
        "#Converting the data to pandas dataframe.\n",
        "df = pd.read_csv(io.StringIO(urlData.decode('utf-8')))"
      ],
      "execution_count": 2,
      "outputs": []
    },
    {
      "cell_type": "code",
      "metadata": {
        "id": "fKthK-mQaZ6p",
        "outputId": "e60cfd54-b17f-4367-f52c-9c42fbf65c25",
        "colab": {
          "base_uri": "https://localhost:8080/",
          "height": 36
        }
      },
      "source": [
        "#Shape the data set\n",
        "df.shape"
      ],
      "execution_count": 3,
      "outputs": [
        {
          "output_type": "execute_result",
          "data": {
            "text/plain": [
              "(200, 11)"
            ]
          },
          "metadata": {
            "tags": []
          },
          "execution_count": 3
        }
      ]
    },
    {
      "cell_type": "markdown",
      "metadata": {
        "id": "Y4zH_CT_Gj5m"
      },
      "source": [
        "#Cleaning and Exploring the Data Set"
      ]
    },
    {
      "cell_type": "code",
      "metadata": {
        "id": "7MOQK4cogWWK",
        "outputId": "0c5e117d-709a-48a9-fcab-7ee1eb8f868a",
        "colab": {
          "base_uri": "https://localhost:8080/",
          "height": 400
        }
      },
      "source": [
        "df.head()"
      ],
      "execution_count": 4,
      "outputs": [
        {
          "output_type": "execute_result",
          "data": {
            "text/html": [
              "<div>\n",
              "<style scoped>\n",
              "    .dataframe tbody tr th:only-of-type {\n",
              "        vertical-align: middle;\n",
              "    }\n",
              "\n",
              "    .dataframe tbody tr th {\n",
              "        vertical-align: top;\n",
              "    }\n",
              "\n",
              "    .dataframe thead th {\n",
              "        text-align: right;\n",
              "    }\n",
              "</style>\n",
              "<table border=\"1\" class=\"dataframe\">\n",
              "  <thead>\n",
              "    <tr style=\"text-align: right;\">\n",
              "      <th></th>\n",
              "      <th>id</th>\n",
              "      <th>country</th>\n",
              "      <th>state</th>\n",
              "      <th>city</th>\n",
              "      <th>station</th>\n",
              "      <th>last_update</th>\n",
              "      <th>pollutant_id</th>\n",
              "      <th>pollutant_min</th>\n",
              "      <th>pollutant_max</th>\n",
              "      <th>pollutant_avg</th>\n",
              "      <th>pollutant_unit</th>\n",
              "    </tr>\n",
              "  </thead>\n",
              "  <tbody>\n",
              "    <tr>\n",
              "      <th>0</th>\n",
              "      <td>1</td>\n",
              "      <td>India</td>\n",
              "      <td>Andhra_Pradesh</td>\n",
              "      <td>Amaravati</td>\n",
              "      <td>Secretariat, Amaravati - APPCB</td>\n",
              "      <td>14-10-2020 08:00:00</td>\n",
              "      <td>PM2.5</td>\n",
              "      <td>9.0</td>\n",
              "      <td>32.0</td>\n",
              "      <td>19.0</td>\n",
              "      <td>NaN</td>\n",
              "    </tr>\n",
              "    <tr>\n",
              "      <th>1</th>\n",
              "      <td>2</td>\n",
              "      <td>India</td>\n",
              "      <td>Andhra_Pradesh</td>\n",
              "      <td>Amaravati</td>\n",
              "      <td>Secretariat, Amaravati - APPCB</td>\n",
              "      <td>14-10-2020 08:00:00</td>\n",
              "      <td>PM10</td>\n",
              "      <td>14.0</td>\n",
              "      <td>36.0</td>\n",
              "      <td>22.0</td>\n",
              "      <td>NaN</td>\n",
              "    </tr>\n",
              "    <tr>\n",
              "      <th>2</th>\n",
              "      <td>3</td>\n",
              "      <td>India</td>\n",
              "      <td>Andhra_Pradesh</td>\n",
              "      <td>Amaravati</td>\n",
              "      <td>Secretariat, Amaravati - APPCB</td>\n",
              "      <td>14-10-2020 08:00:00</td>\n",
              "      <td>NO2</td>\n",
              "      <td>21.0</td>\n",
              "      <td>40.0</td>\n",
              "      <td>30.0</td>\n",
              "      <td>NaN</td>\n",
              "    </tr>\n",
              "    <tr>\n",
              "      <th>3</th>\n",
              "      <td>4</td>\n",
              "      <td>India</td>\n",
              "      <td>Andhra_Pradesh</td>\n",
              "      <td>Amaravati</td>\n",
              "      <td>Secretariat, Amaravati - APPCB</td>\n",
              "      <td>14-10-2020 08:00:00</td>\n",
              "      <td>NH3</td>\n",
              "      <td>2.0</td>\n",
              "      <td>4.0</td>\n",
              "      <td>3.0</td>\n",
              "      <td>NaN</td>\n",
              "    </tr>\n",
              "    <tr>\n",
              "      <th>4</th>\n",
              "      <td>5</td>\n",
              "      <td>India</td>\n",
              "      <td>Andhra_Pradesh</td>\n",
              "      <td>Amaravati</td>\n",
              "      <td>Secretariat, Amaravati - APPCB</td>\n",
              "      <td>14-10-2020 08:00:00</td>\n",
              "      <td>SO2</td>\n",
              "      <td>1.0</td>\n",
              "      <td>59.0</td>\n",
              "      <td>29.0</td>\n",
              "      <td>NaN</td>\n",
              "    </tr>\n",
              "  </tbody>\n",
              "</table>\n",
              "</div>"
            ],
            "text/plain": [
              "   id country           state  ... pollutant_max pollutant_avg pollutant_unit\n",
              "0   1   India  Andhra_Pradesh  ...          32.0          19.0            NaN\n",
              "1   2   India  Andhra_Pradesh  ...          36.0          22.0            NaN\n",
              "2   3   India  Andhra_Pradesh  ...          40.0          30.0            NaN\n",
              "3   4   India  Andhra_Pradesh  ...           4.0           3.0            NaN\n",
              "4   5   India  Andhra_Pradesh  ...          59.0          29.0            NaN\n",
              "\n",
              "[5 rows x 11 columns]"
            ]
          },
          "metadata": {
            "tags": []
          },
          "execution_count": 4
        }
      ]
    },
    {
      "cell_type": "code",
      "metadata": {
        "id": "3GFRTrv6FaxL",
        "outputId": "40aeda26-2e7d-4057-fd04-51b05ffbd6a1",
        "colab": {
          "base_uri": "https://localhost:8080/",
          "height": 36
        }
      },
      "source": [
        "df.shape"
      ],
      "execution_count": 5,
      "outputs": [
        {
          "output_type": "execute_result",
          "data": {
            "text/plain": [
              "(200, 11)"
            ]
          },
          "metadata": {
            "tags": []
          },
          "execution_count": 5
        }
      ]
    },
    {
      "cell_type": "code",
      "metadata": {
        "id": "2LAgcUudHEdA",
        "outputId": "c08addd3-8b41-455b-e2c3-fd356b7ca8f8",
        "colab": {
          "base_uri": "https://localhost:8080/",
          "height": 242
        }
      },
      "source": [
        "df.dtypes"
      ],
      "execution_count": 6,
      "outputs": [
        {
          "output_type": "execute_result",
          "data": {
            "text/plain": [
              "id                  int64\n",
              "country            object\n",
              "state              object\n",
              "city               object\n",
              "station            object\n",
              "last_update        object\n",
              "pollutant_id       object\n",
              "pollutant_min     float64\n",
              "pollutant_max     float64\n",
              "pollutant_avg     float64\n",
              "pollutant_unit    float64\n",
              "dtype: object"
            ]
          },
          "metadata": {
            "tags": []
          },
          "execution_count": 6
        }
      ]
    },
    {
      "cell_type": "code",
      "metadata": {
        "id": "Nz9ISAkhG5Wm",
        "outputId": "7bd40a8d-8ab4-424b-b206-948fcab1b27b",
        "colab": {
          "base_uri": "https://localhost:8080/",
          "height": 92
        }
      },
      "source": [
        "df.columns"
      ],
      "execution_count": 7,
      "outputs": [
        {
          "output_type": "execute_result",
          "data": {
            "text/plain": [
              "Index(['id', 'country', 'state', 'city', 'station', 'last_update',\n",
              "       'pollutant_id', 'pollutant_min', 'pollutant_max', 'pollutant_avg',\n",
              "       'pollutant_unit'],\n",
              "      dtype='object')"
            ]
          },
          "metadata": {
            "tags": []
          },
          "execution_count": 7
        }
      ]
    },
    {
      "cell_type": "code",
      "metadata": {
        "id": "s4abc_DmG7ZO",
        "outputId": "5669cb86-54bf-4020-a0e2-e60f91e0c354",
        "colab": {
          "base_uri": "https://localhost:8080/",
          "height": 354
        }
      },
      "source": [
        "df.info()"
      ],
      "execution_count": 8,
      "outputs": [
        {
          "output_type": "stream",
          "text": [
            "<class 'pandas.core.frame.DataFrame'>\n",
            "RangeIndex: 200 entries, 0 to 199\n",
            "Data columns (total 11 columns):\n",
            " #   Column          Non-Null Count  Dtype  \n",
            "---  ------          --------------  -----  \n",
            " 0   id              200 non-null    int64  \n",
            " 1   country         200 non-null    object \n",
            " 2   state           200 non-null    object \n",
            " 3   city            200 non-null    object \n",
            " 4   station         200 non-null    object \n",
            " 5   last_update     200 non-null    object \n",
            " 6   pollutant_id    200 non-null    object \n",
            " 7   pollutant_min   193 non-null    float64\n",
            " 8   pollutant_max   193 non-null    float64\n",
            " 9   pollutant_avg   193 non-null    float64\n",
            " 10  pollutant_unit  0 non-null      float64\n",
            "dtypes: float64(4), int64(1), object(6)\n",
            "memory usage: 17.3+ KB\n"
          ],
          "name": "stdout"
        }
      ]
    },
    {
      "cell_type": "code",
      "metadata": {
        "id": "8AhYZlpeWBHd",
        "outputId": "3981c264-0350-4a9c-bdb3-9f6bff12678c",
        "colab": {
          "base_uri": "https://localhost:8080/",
          "height": 92
        }
      },
      "source": [
        "df.columns"
      ],
      "execution_count": 9,
      "outputs": [
        {
          "output_type": "execute_result",
          "data": {
            "text/plain": [
              "Index(['id', 'country', 'state', 'city', 'station', 'last_update',\n",
              "       'pollutant_id', 'pollutant_min', 'pollutant_max', 'pollutant_avg',\n",
              "       'pollutant_unit'],\n",
              "      dtype='object')"
            ]
          },
          "metadata": {
            "tags": []
          },
          "execution_count": 9
        }
      ]
    },
    {
      "cell_type": "code",
      "metadata": {
        "id": "Z2cHPqcfWEgX"
      },
      "source": [
        "df.drop(['id'],axis=1,inplace=True)"
      ],
      "execution_count": 10,
      "outputs": []
    },
    {
      "cell_type": "code",
      "metadata": {
        "id": "QKJGCQ30SJ9c",
        "outputId": "263fefeb-cd69-4d72-fa76-71bb6454db04",
        "colab": {
          "base_uri": "https://localhost:8080/",
          "height": 400
        }
      },
      "source": [
        "df.head()"
      ],
      "execution_count": 11,
      "outputs": [
        {
          "output_type": "execute_result",
          "data": {
            "text/html": [
              "<div>\n",
              "<style scoped>\n",
              "    .dataframe tbody tr th:only-of-type {\n",
              "        vertical-align: middle;\n",
              "    }\n",
              "\n",
              "    .dataframe tbody tr th {\n",
              "        vertical-align: top;\n",
              "    }\n",
              "\n",
              "    .dataframe thead th {\n",
              "        text-align: right;\n",
              "    }\n",
              "</style>\n",
              "<table border=\"1\" class=\"dataframe\">\n",
              "  <thead>\n",
              "    <tr style=\"text-align: right;\">\n",
              "      <th></th>\n",
              "      <th>country</th>\n",
              "      <th>state</th>\n",
              "      <th>city</th>\n",
              "      <th>station</th>\n",
              "      <th>last_update</th>\n",
              "      <th>pollutant_id</th>\n",
              "      <th>pollutant_min</th>\n",
              "      <th>pollutant_max</th>\n",
              "      <th>pollutant_avg</th>\n",
              "      <th>pollutant_unit</th>\n",
              "    </tr>\n",
              "  </thead>\n",
              "  <tbody>\n",
              "    <tr>\n",
              "      <th>0</th>\n",
              "      <td>India</td>\n",
              "      <td>Andhra_Pradesh</td>\n",
              "      <td>Amaravati</td>\n",
              "      <td>Secretariat, Amaravati - APPCB</td>\n",
              "      <td>14-10-2020 08:00:00</td>\n",
              "      <td>PM2.5</td>\n",
              "      <td>9.0</td>\n",
              "      <td>32.0</td>\n",
              "      <td>19.0</td>\n",
              "      <td>NaN</td>\n",
              "    </tr>\n",
              "    <tr>\n",
              "      <th>1</th>\n",
              "      <td>India</td>\n",
              "      <td>Andhra_Pradesh</td>\n",
              "      <td>Amaravati</td>\n",
              "      <td>Secretariat, Amaravati - APPCB</td>\n",
              "      <td>14-10-2020 08:00:00</td>\n",
              "      <td>PM10</td>\n",
              "      <td>14.0</td>\n",
              "      <td>36.0</td>\n",
              "      <td>22.0</td>\n",
              "      <td>NaN</td>\n",
              "    </tr>\n",
              "    <tr>\n",
              "      <th>2</th>\n",
              "      <td>India</td>\n",
              "      <td>Andhra_Pradesh</td>\n",
              "      <td>Amaravati</td>\n",
              "      <td>Secretariat, Amaravati - APPCB</td>\n",
              "      <td>14-10-2020 08:00:00</td>\n",
              "      <td>NO2</td>\n",
              "      <td>21.0</td>\n",
              "      <td>40.0</td>\n",
              "      <td>30.0</td>\n",
              "      <td>NaN</td>\n",
              "    </tr>\n",
              "    <tr>\n",
              "      <th>3</th>\n",
              "      <td>India</td>\n",
              "      <td>Andhra_Pradesh</td>\n",
              "      <td>Amaravati</td>\n",
              "      <td>Secretariat, Amaravati - APPCB</td>\n",
              "      <td>14-10-2020 08:00:00</td>\n",
              "      <td>NH3</td>\n",
              "      <td>2.0</td>\n",
              "      <td>4.0</td>\n",
              "      <td>3.0</td>\n",
              "      <td>NaN</td>\n",
              "    </tr>\n",
              "    <tr>\n",
              "      <th>4</th>\n",
              "      <td>India</td>\n",
              "      <td>Andhra_Pradesh</td>\n",
              "      <td>Amaravati</td>\n",
              "      <td>Secretariat, Amaravati - APPCB</td>\n",
              "      <td>14-10-2020 08:00:00</td>\n",
              "      <td>SO2</td>\n",
              "      <td>1.0</td>\n",
              "      <td>59.0</td>\n",
              "      <td>29.0</td>\n",
              "      <td>NaN</td>\n",
              "    </tr>\n",
              "  </tbody>\n",
              "</table>\n",
              "</div>"
            ],
            "text/plain": [
              "  country           state  ... pollutant_avg pollutant_unit\n",
              "0   India  Andhra_Pradesh  ...          19.0            NaN\n",
              "1   India  Andhra_Pradesh  ...          22.0            NaN\n",
              "2   India  Andhra_Pradesh  ...          30.0            NaN\n",
              "3   India  Andhra_Pradesh  ...           3.0            NaN\n",
              "4   India  Andhra_Pradesh  ...          29.0            NaN\n",
              "\n",
              "[5 rows x 10 columns]"
            ]
          },
          "metadata": {
            "tags": []
          },
          "execution_count": 11
        }
      ]
    },
    {
      "cell_type": "code",
      "metadata": {
        "id": "FO11mV7rIQdz"
      },
      "source": [
        "df['pollutant_unit'] = df['pollutant_unit'].fillna(0)"
      ],
      "execution_count": 12,
      "outputs": []
    },
    {
      "cell_type": "code",
      "metadata": {
        "id": "0fQ2X-V7IWET",
        "outputId": "5ae29b01-2708-4078-d082-e7df0d307959",
        "colab": {
          "base_uri": "https://localhost:8080/",
          "height": 400
        }
      },
      "source": [
        "df.head()"
      ],
      "execution_count": 13,
      "outputs": [
        {
          "output_type": "execute_result",
          "data": {
            "text/html": [
              "<div>\n",
              "<style scoped>\n",
              "    .dataframe tbody tr th:only-of-type {\n",
              "        vertical-align: middle;\n",
              "    }\n",
              "\n",
              "    .dataframe tbody tr th {\n",
              "        vertical-align: top;\n",
              "    }\n",
              "\n",
              "    .dataframe thead th {\n",
              "        text-align: right;\n",
              "    }\n",
              "</style>\n",
              "<table border=\"1\" class=\"dataframe\">\n",
              "  <thead>\n",
              "    <tr style=\"text-align: right;\">\n",
              "      <th></th>\n",
              "      <th>country</th>\n",
              "      <th>state</th>\n",
              "      <th>city</th>\n",
              "      <th>station</th>\n",
              "      <th>last_update</th>\n",
              "      <th>pollutant_id</th>\n",
              "      <th>pollutant_min</th>\n",
              "      <th>pollutant_max</th>\n",
              "      <th>pollutant_avg</th>\n",
              "      <th>pollutant_unit</th>\n",
              "    </tr>\n",
              "  </thead>\n",
              "  <tbody>\n",
              "    <tr>\n",
              "      <th>0</th>\n",
              "      <td>India</td>\n",
              "      <td>Andhra_Pradesh</td>\n",
              "      <td>Amaravati</td>\n",
              "      <td>Secretariat, Amaravati - APPCB</td>\n",
              "      <td>14-10-2020 08:00:00</td>\n",
              "      <td>PM2.5</td>\n",
              "      <td>9.0</td>\n",
              "      <td>32.0</td>\n",
              "      <td>19.0</td>\n",
              "      <td>0.0</td>\n",
              "    </tr>\n",
              "    <tr>\n",
              "      <th>1</th>\n",
              "      <td>India</td>\n",
              "      <td>Andhra_Pradesh</td>\n",
              "      <td>Amaravati</td>\n",
              "      <td>Secretariat, Amaravati - APPCB</td>\n",
              "      <td>14-10-2020 08:00:00</td>\n",
              "      <td>PM10</td>\n",
              "      <td>14.0</td>\n",
              "      <td>36.0</td>\n",
              "      <td>22.0</td>\n",
              "      <td>0.0</td>\n",
              "    </tr>\n",
              "    <tr>\n",
              "      <th>2</th>\n",
              "      <td>India</td>\n",
              "      <td>Andhra_Pradesh</td>\n",
              "      <td>Amaravati</td>\n",
              "      <td>Secretariat, Amaravati - APPCB</td>\n",
              "      <td>14-10-2020 08:00:00</td>\n",
              "      <td>NO2</td>\n",
              "      <td>21.0</td>\n",
              "      <td>40.0</td>\n",
              "      <td>30.0</td>\n",
              "      <td>0.0</td>\n",
              "    </tr>\n",
              "    <tr>\n",
              "      <th>3</th>\n",
              "      <td>India</td>\n",
              "      <td>Andhra_Pradesh</td>\n",
              "      <td>Amaravati</td>\n",
              "      <td>Secretariat, Amaravati - APPCB</td>\n",
              "      <td>14-10-2020 08:00:00</td>\n",
              "      <td>NH3</td>\n",
              "      <td>2.0</td>\n",
              "      <td>4.0</td>\n",
              "      <td>3.0</td>\n",
              "      <td>0.0</td>\n",
              "    </tr>\n",
              "    <tr>\n",
              "      <th>4</th>\n",
              "      <td>India</td>\n",
              "      <td>Andhra_Pradesh</td>\n",
              "      <td>Amaravati</td>\n",
              "      <td>Secretariat, Amaravati - APPCB</td>\n",
              "      <td>14-10-2020 08:00:00</td>\n",
              "      <td>SO2</td>\n",
              "      <td>1.0</td>\n",
              "      <td>59.0</td>\n",
              "      <td>29.0</td>\n",
              "      <td>0.0</td>\n",
              "    </tr>\n",
              "  </tbody>\n",
              "</table>\n",
              "</div>"
            ],
            "text/plain": [
              "  country           state  ... pollutant_avg pollutant_unit\n",
              "0   India  Andhra_Pradesh  ...          19.0            0.0\n",
              "1   India  Andhra_Pradesh  ...          22.0            0.0\n",
              "2   India  Andhra_Pradesh  ...          30.0            0.0\n",
              "3   India  Andhra_Pradesh  ...           3.0            0.0\n",
              "4   India  Andhra_Pradesh  ...          29.0            0.0\n",
              "\n",
              "[5 rows x 10 columns]"
            ]
          },
          "metadata": {
            "tags": []
          },
          "execution_count": 13
        }
      ]
    },
    {
      "cell_type": "code",
      "metadata": {
        "id": "dSFlEtJkOcZY"
      },
      "source": [
        "df = df.drop(df.columns[-1],axis=1)"
      ],
      "execution_count": 14,
      "outputs": []
    },
    {
      "cell_type": "code",
      "metadata": {
        "id": "8O2zcxDhXtk7",
        "outputId": "5bdd1856-e1a9-44c8-d042-13ac2949538e",
        "colab": {
          "base_uri": "https://localhost:8080/",
          "height": 400
        }
      },
      "source": [
        "df.head()"
      ],
      "execution_count": 15,
      "outputs": [
        {
          "output_type": "execute_result",
          "data": {
            "text/html": [
              "<div>\n",
              "<style scoped>\n",
              "    .dataframe tbody tr th:only-of-type {\n",
              "        vertical-align: middle;\n",
              "    }\n",
              "\n",
              "    .dataframe tbody tr th {\n",
              "        vertical-align: top;\n",
              "    }\n",
              "\n",
              "    .dataframe thead th {\n",
              "        text-align: right;\n",
              "    }\n",
              "</style>\n",
              "<table border=\"1\" class=\"dataframe\">\n",
              "  <thead>\n",
              "    <tr style=\"text-align: right;\">\n",
              "      <th></th>\n",
              "      <th>country</th>\n",
              "      <th>state</th>\n",
              "      <th>city</th>\n",
              "      <th>station</th>\n",
              "      <th>last_update</th>\n",
              "      <th>pollutant_id</th>\n",
              "      <th>pollutant_min</th>\n",
              "      <th>pollutant_max</th>\n",
              "      <th>pollutant_avg</th>\n",
              "    </tr>\n",
              "  </thead>\n",
              "  <tbody>\n",
              "    <tr>\n",
              "      <th>0</th>\n",
              "      <td>India</td>\n",
              "      <td>Andhra_Pradesh</td>\n",
              "      <td>Amaravati</td>\n",
              "      <td>Secretariat, Amaravati - APPCB</td>\n",
              "      <td>14-10-2020 08:00:00</td>\n",
              "      <td>PM2.5</td>\n",
              "      <td>9.0</td>\n",
              "      <td>32.0</td>\n",
              "      <td>19.0</td>\n",
              "    </tr>\n",
              "    <tr>\n",
              "      <th>1</th>\n",
              "      <td>India</td>\n",
              "      <td>Andhra_Pradesh</td>\n",
              "      <td>Amaravati</td>\n",
              "      <td>Secretariat, Amaravati - APPCB</td>\n",
              "      <td>14-10-2020 08:00:00</td>\n",
              "      <td>PM10</td>\n",
              "      <td>14.0</td>\n",
              "      <td>36.0</td>\n",
              "      <td>22.0</td>\n",
              "    </tr>\n",
              "    <tr>\n",
              "      <th>2</th>\n",
              "      <td>India</td>\n",
              "      <td>Andhra_Pradesh</td>\n",
              "      <td>Amaravati</td>\n",
              "      <td>Secretariat, Amaravati - APPCB</td>\n",
              "      <td>14-10-2020 08:00:00</td>\n",
              "      <td>NO2</td>\n",
              "      <td>21.0</td>\n",
              "      <td>40.0</td>\n",
              "      <td>30.0</td>\n",
              "    </tr>\n",
              "    <tr>\n",
              "      <th>3</th>\n",
              "      <td>India</td>\n",
              "      <td>Andhra_Pradesh</td>\n",
              "      <td>Amaravati</td>\n",
              "      <td>Secretariat, Amaravati - APPCB</td>\n",
              "      <td>14-10-2020 08:00:00</td>\n",
              "      <td>NH3</td>\n",
              "      <td>2.0</td>\n",
              "      <td>4.0</td>\n",
              "      <td>3.0</td>\n",
              "    </tr>\n",
              "    <tr>\n",
              "      <th>4</th>\n",
              "      <td>India</td>\n",
              "      <td>Andhra_Pradesh</td>\n",
              "      <td>Amaravati</td>\n",
              "      <td>Secretariat, Amaravati - APPCB</td>\n",
              "      <td>14-10-2020 08:00:00</td>\n",
              "      <td>SO2</td>\n",
              "      <td>1.0</td>\n",
              "      <td>59.0</td>\n",
              "      <td>29.0</td>\n",
              "    </tr>\n",
              "  </tbody>\n",
              "</table>\n",
              "</div>"
            ],
            "text/plain": [
              "  country           state  ... pollutant_max pollutant_avg\n",
              "0   India  Andhra_Pradesh  ...          32.0          19.0\n",
              "1   India  Andhra_Pradesh  ...          36.0          22.0\n",
              "2   India  Andhra_Pradesh  ...          40.0          30.0\n",
              "3   India  Andhra_Pradesh  ...           4.0           3.0\n",
              "4   India  Andhra_Pradesh  ...          59.0          29.0\n",
              "\n",
              "[5 rows x 9 columns]"
            ]
          },
          "metadata": {
            "tags": []
          },
          "execution_count": 15
        }
      ]
    },
    {
      "cell_type": "code",
      "metadata": {
        "id": "ni59-LCGXvR3",
        "outputId": "68e95794-7911-49c7-f1fe-55a96ff17237",
        "colab": {
          "base_uri": "https://localhost:8080/",
          "height": 36
        }
      },
      "source": [
        "df.isnull().sum().sum()"
      ],
      "execution_count": 16,
      "outputs": [
        {
          "output_type": "execute_result",
          "data": {
            "text/plain": [
              "21"
            ]
          },
          "metadata": {
            "tags": []
          },
          "execution_count": 16
        }
      ]
    },
    {
      "cell_type": "code",
      "metadata": {
        "id": "7SxQcktDX5M9"
      },
      "source": [
        "df.dropna(inplace=True)"
      ],
      "execution_count": 17,
      "outputs": []
    },
    {
      "cell_type": "code",
      "metadata": {
        "id": "b-QX5GzmX-JA",
        "outputId": "1cd36ffa-48e6-4d38-b252-e55c8f06ba40",
        "colab": {
          "base_uri": "https://localhost:8080/",
          "height": 36
        }
      },
      "source": [
        "df.isnull().sum().sum()"
      ],
      "execution_count": 18,
      "outputs": [
        {
          "output_type": "execute_result",
          "data": {
            "text/plain": [
              "0"
            ]
          },
          "metadata": {
            "tags": []
          },
          "execution_count": 18
        }
      ]
    },
    {
      "cell_type": "code",
      "metadata": {
        "id": "27Cw5fGNYFHZ",
        "outputId": "09bc90fe-e6ee-4249-ad99-ff49d62728f7",
        "colab": {
          "base_uri": "https://localhost:8080/",
          "height": 400
        }
      },
      "source": [
        "df.head()"
      ],
      "execution_count": 19,
      "outputs": [
        {
          "output_type": "execute_result",
          "data": {
            "text/html": [
              "<div>\n",
              "<style scoped>\n",
              "    .dataframe tbody tr th:only-of-type {\n",
              "        vertical-align: middle;\n",
              "    }\n",
              "\n",
              "    .dataframe tbody tr th {\n",
              "        vertical-align: top;\n",
              "    }\n",
              "\n",
              "    .dataframe thead th {\n",
              "        text-align: right;\n",
              "    }\n",
              "</style>\n",
              "<table border=\"1\" class=\"dataframe\">\n",
              "  <thead>\n",
              "    <tr style=\"text-align: right;\">\n",
              "      <th></th>\n",
              "      <th>country</th>\n",
              "      <th>state</th>\n",
              "      <th>city</th>\n",
              "      <th>station</th>\n",
              "      <th>last_update</th>\n",
              "      <th>pollutant_id</th>\n",
              "      <th>pollutant_min</th>\n",
              "      <th>pollutant_max</th>\n",
              "      <th>pollutant_avg</th>\n",
              "    </tr>\n",
              "  </thead>\n",
              "  <tbody>\n",
              "    <tr>\n",
              "      <th>0</th>\n",
              "      <td>India</td>\n",
              "      <td>Andhra_Pradesh</td>\n",
              "      <td>Amaravati</td>\n",
              "      <td>Secretariat, Amaravati - APPCB</td>\n",
              "      <td>14-10-2020 08:00:00</td>\n",
              "      <td>PM2.5</td>\n",
              "      <td>9.0</td>\n",
              "      <td>32.0</td>\n",
              "      <td>19.0</td>\n",
              "    </tr>\n",
              "    <tr>\n",
              "      <th>1</th>\n",
              "      <td>India</td>\n",
              "      <td>Andhra_Pradesh</td>\n",
              "      <td>Amaravati</td>\n",
              "      <td>Secretariat, Amaravati - APPCB</td>\n",
              "      <td>14-10-2020 08:00:00</td>\n",
              "      <td>PM10</td>\n",
              "      <td>14.0</td>\n",
              "      <td>36.0</td>\n",
              "      <td>22.0</td>\n",
              "    </tr>\n",
              "    <tr>\n",
              "      <th>2</th>\n",
              "      <td>India</td>\n",
              "      <td>Andhra_Pradesh</td>\n",
              "      <td>Amaravati</td>\n",
              "      <td>Secretariat, Amaravati - APPCB</td>\n",
              "      <td>14-10-2020 08:00:00</td>\n",
              "      <td>NO2</td>\n",
              "      <td>21.0</td>\n",
              "      <td>40.0</td>\n",
              "      <td>30.0</td>\n",
              "    </tr>\n",
              "    <tr>\n",
              "      <th>3</th>\n",
              "      <td>India</td>\n",
              "      <td>Andhra_Pradesh</td>\n",
              "      <td>Amaravati</td>\n",
              "      <td>Secretariat, Amaravati - APPCB</td>\n",
              "      <td>14-10-2020 08:00:00</td>\n",
              "      <td>NH3</td>\n",
              "      <td>2.0</td>\n",
              "      <td>4.0</td>\n",
              "      <td>3.0</td>\n",
              "    </tr>\n",
              "    <tr>\n",
              "      <th>4</th>\n",
              "      <td>India</td>\n",
              "      <td>Andhra_Pradesh</td>\n",
              "      <td>Amaravati</td>\n",
              "      <td>Secretariat, Amaravati - APPCB</td>\n",
              "      <td>14-10-2020 08:00:00</td>\n",
              "      <td>SO2</td>\n",
              "      <td>1.0</td>\n",
              "      <td>59.0</td>\n",
              "      <td>29.0</td>\n",
              "    </tr>\n",
              "  </tbody>\n",
              "</table>\n",
              "</div>"
            ],
            "text/plain": [
              "  country           state  ... pollutant_max pollutant_avg\n",
              "0   India  Andhra_Pradesh  ...          32.0          19.0\n",
              "1   India  Andhra_Pradesh  ...          36.0          22.0\n",
              "2   India  Andhra_Pradesh  ...          40.0          30.0\n",
              "3   India  Andhra_Pradesh  ...           4.0           3.0\n",
              "4   India  Andhra_Pradesh  ...          59.0          29.0\n",
              "\n",
              "[5 rows x 9 columns]"
            ]
          },
          "metadata": {
            "tags": []
          },
          "execution_count": 19
        }
      ]
    },
    {
      "cell_type": "code",
      "metadata": {
        "id": "QNgFwXKcaKg8",
        "outputId": "95597539-66ce-40fc-8a0a-005b9cd68754",
        "colab": {
          "base_uri": "https://localhost:8080/",
          "height": 73
        }
      },
      "source": [
        "df.columns"
      ],
      "execution_count": 20,
      "outputs": [
        {
          "output_type": "execute_result",
          "data": {
            "text/plain": [
              "Index(['country', 'state', 'city', 'station', 'last_update', 'pollutant_id',\n",
              "       'pollutant_min', 'pollutant_max', 'pollutant_avg'],\n",
              "      dtype='object')"
            ]
          },
          "metadata": {
            "tags": []
          },
          "execution_count": 20
        }
      ]
    },
    {
      "cell_type": "code",
      "metadata": {
        "id": "TyxFR23WkaAJ",
        "outputId": "fbd4334b-8391-4456-f481-e7ff7d096a1a",
        "colab": {
          "base_uri": "https://localhost:8080/",
          "height": 111
        }
      },
      "source": [
        "df['last_update'].describe()"
      ],
      "execution_count": 21,
      "outputs": [
        {
          "output_type": "execute_result",
          "data": {
            "text/plain": [
              "count                     193\n",
              "unique                      1\n",
              "top       14-10-2020 08:00:00\n",
              "freq                      193\n",
              "Name: last_update, dtype: object"
            ]
          },
          "metadata": {
            "tags": []
          },
          "execution_count": 21
        }
      ]
    },
    {
      "cell_type": "code",
      "metadata": {
        "id": "PORC4y9paOMr",
        "outputId": "b19cf63c-7dda-4bd5-89b8-499ebb29f2a8",
        "colab": {
          "base_uri": "https://localhost:8080/",
          "height": 167
        }
      },
      "source": [
        "df['pollutant_id'].value_counts()"
      ],
      "execution_count": 22,
      "outputs": [
        {
          "output_type": "execute_result",
          "data": {
            "text/plain": [
              "CO       31\n",
              "OZONE    30\n",
              "PM2.5    29\n",
              "NO2      27\n",
              "PM10     27\n",
              "SO2      26\n",
              "NH3      23\n",
              "Name: pollutant_id, dtype: int64"
            ]
          },
          "metadata": {
            "tags": []
          },
          "execution_count": 22
        }
      ]
    },
    {
      "cell_type": "markdown",
      "metadata": {
        "id": "8ae5FJgTZ9pw"
      },
      "source": [
        "#Visulization the Data set"
      ]
    },
    {
      "cell_type": "code",
      "metadata": {
        "id": "wstPnvyTYjPo"
      },
      "source": [
        "#Importing libraries\n",
        "import matplotlib.pyplot as plt\n",
        "import seaborn as sns"
      ],
      "execution_count": 23,
      "outputs": []
    },
    {
      "cell_type": "markdown",
      "metadata": {
        "id": "-p1liBDljmxG"
      },
      "source": [
        "#Count Plot"
      ]
    },
    {
      "cell_type": "code",
      "metadata": {
        "id": "1QTc72RqaBih",
        "outputId": "6b8366a0-b9ef-4994-998a-0bfd61c371c3",
        "colab": {
          "base_uri": "https://localhost:8080/",
          "height": 299
        }
      },
      "source": [
        "sns.countplot(x='pollutant_id',data=df)"
      ],
      "execution_count": 24,
      "outputs": [
        {
          "output_type": "execute_result",
          "data": {
            "text/plain": [
              "<matplotlib.axes._subplots.AxesSubplot at 0x7fe2dca457b8>"
            ]
          },
          "metadata": {
            "tags": []
          },
          "execution_count": 24
        },
        {
          "output_type": "display_data",
          "data": {
            "image/png": "[encoded data removed]",
            "text/plain": [
              "<Figure size 432x288 with 1 Axes>"
            ]
          },
          "metadata": {
            "tags": [],
            "needs_background": "light"
          }
        }
      ]
    },
    {
      "cell_type": "code",
      "metadata": {
        "id": "FuHENe4EaqQr",
        "outputId": "686c32db-a8ef-4d0b-a0f1-2bcbe4a8f8a1",
        "colab": {
          "base_uri": "https://localhost:8080/",
          "height": 299
        }
      },
      "source": [
        "sns.countplot(x='country',data=df)"
      ],
      "execution_count": 25,
      "outputs": [
        {
          "output_type": "execute_result",
          "data": {
            "text/plain": [
              "<matplotlib.axes._subplots.AxesSubplot at 0x7fe2dc9a7f98>"
            ]
          },
          "metadata": {
            "tags": []
          },
          "execution_count": 25
        },
        {
          "output_type": "display_data",
          "data": {
            "image/png": "[encoded data removed]",
            "text/plain": [
              "<Figure size 432x288 with 1 Axes>"
            ]
          },
          "metadata": {
            "tags": [],
            "needs_background": "light"
          }
        }
      ]
    },
    {
      "cell_type": "code",
      "metadata": {
        "id": "E3hwtS3sbHmH",
        "outputId": "8ba9cae6-dc5a-44cb-c55d-f2cb718196ab",
        "colab": {
          "base_uri": "https://localhost:8080/",
          "height": 299
        }
      },
      "source": [
        "sns.countplot(x='state',data=df)"
      ],
      "execution_count": 26,
      "outputs": [
        {
          "output_type": "execute_result",
          "data": {
            "text/plain": [
              "<matplotlib.axes._subplots.AxesSubplot at 0x7fe2dc4cc6d8>"
            ]
          },
          "metadata": {
            "tags": []
          },
          "execution_count": 26
        },
        {
          "output_type": "display_data",
          "data": {
            "image/png": "[encoded data removed]",
            "text/plain": [
              "<Figure size 432x288 with 1 Axes>"
            ]
          },
          "metadata": {
            "tags": [],
            "needs_background": "light"
          }
        }
      ]
    },
    {
      "cell_type": "code",
      "metadata": {
        "id": "kUcqJjzrbRJm",
        "outputId": "a8ae8804-edfe-4e6b-edef-a0982f3fdbd4",
        "colab": {
          "base_uri": "https://localhost:8080/",
          "height": 432
        }
      },
      "source": [
        "plt.figure(figsize=(15,7))\n",
        "sns.countplot(x='city',data=df)"
      ],
      "execution_count": 27,
      "outputs": [
        {
          "output_type": "execute_result",
          "data": {
            "text/plain": [
              "<matplotlib.axes._subplots.AxesSubplot at 0x7fe2dc4a9278>"
            ]
          },
          "metadata": {
            "tags": []
          },
          "execution_count": 27
        },
        {
          "output_type": "display_data",
          "data": {
            "image/png": "[encoded data removed]",
            "text/plain": [
              "<Figure size 1080x504 with 1 Axes>"
            ]
          },
          "metadata": {
            "tags": [],
            "needs_background": "light"
          }
        }
      ]
    },
    {
      "cell_type": "code",
      "metadata": {
        "id": "8n8LWYhbbrnc",
        "outputId": "239d2326-5734-47b4-fe93-d13ffe439ca7",
        "colab": {
          "base_uri": "https://localhost:8080/",
          "height": 56
        }
      },
      "source": [
        "station = list(set(df['station'].values.tolist()))\n",
        "station.sort()\n",
        "print(station)"
      ],
      "execution_count": 28,
      "outputs": [
        {
          "output_type": "stream",
          "text": [
            "['Alipur, Delhi - DPCC', 'Anand Kala Kshetram, Rajamahendravaram - APPCB', 'Anand Vihar, Delhi - DPCC', 'Ashok Vihar, Delhi - DPCC', 'Aya Nagar, Delhi - IMD', 'Bawana, Delhi - DPCC', 'Buddha Colony, Muzaffarpur - BSPCB', 'CRRI Mathura Road, Delhi - IMD', 'DRM Office Danapur, Patna - BSPCB', 'DTU, Delhi - CPCB', 'Dr. Karni Singh Shooting Range, Delhi - DPCC', 'Dwarka-Sector 8, Delhi - DPCC ', 'GVM Corporation, Visakhapatnam - APPCB', 'Govt. High School Shikarpur, Patna - BSPCB', 'IGI Airport (T3), Delhi - IMD', 'IGSC Planetarium Complex, Patna - BSPCB', 'IHBAS, Dilshad Garden, Delhi - CPCB', 'ITO, Delhi - CPCB', 'Industrial Area, Hajipur - BSPCB', 'Jahangirpuri, Delhi - DPCC', 'Jawaharlal Nehru Stadium, Delhi - DPCC', 'Lodhi Road, Delhi - IMD', 'Muradpur, Patna - BSPCB', 'Muzaffarpur Collectorate, Muzaffarpur - BSPCB', 'Railway Colony, Guwahati - APCB', 'Rajbansi Nagar, Patna - BSPCB', 'SFTI Kusdihra, Gaya - BSPCB', 'Samanpura, Patna - BSPCB', 'Secretariat, Amaravati - APPCB', 'Sector-25, Chandigarh - CPCC', 'Tirumala, Tirupati - APPCB']\n"
          ],
          "name": "stdout"
        }
      ]
    },
    {
      "cell_type": "code",
      "metadata": {
        "id": "FAXFJwzRdFFm",
        "outputId": "7511aa13-619f-4685-c690-7949ecdbe6b8",
        "colab": {
          "base_uri": "https://localhost:8080/",
          "height": 36
        }
      },
      "source": [
        "string = 'station'\n",
        "print(len(string))"
      ],
      "execution_count": 29,
      "outputs": [
        {
          "output_type": "stream",
          "text": [
            "7\n"
          ],
          "name": "stdout"
        }
      ]
    },
    {
      "cell_type": "markdown",
      "metadata": {
        "id": "Bp6Y4lsSf-x2"
      },
      "source": [
        "#groupby"
      ]
    },
    {
      "cell_type": "code",
      "metadata": {
        "id": "lF5mHJa2gVJI",
        "outputId": "74ed4a4d-ee48-4b32-9ac4-7eb4e91809ea",
        "colab": {
          "base_uri": "https://localhost:8080/",
          "height": 112
        }
      },
      "source": [
        "country = df.groupby('country').max()[['state']]\n",
        "country"
      ],
      "execution_count": 30,
      "outputs": [
        {
          "output_type": "execute_result",
          "data": {
            "text/html": [
              "<div>\n",
              "<style scoped>\n",
              "    .dataframe tbody tr th:only-of-type {\n",
              "        vertical-align: middle;\n",
              "    }\n",
              "\n",
              "    .dataframe tbody tr th {\n",
              "        vertical-align: top;\n",
              "    }\n",
              "\n",
              "    .dataframe thead th {\n",
              "        text-align: right;\n",
              "    }\n",
              "</style>\n",
              "<table border=\"1\" class=\"dataframe\">\n",
              "  <thead>\n",
              "    <tr style=\"text-align: right;\">\n",
              "      <th></th>\n",
              "      <th>state</th>\n",
              "    </tr>\n",
              "    <tr>\n",
              "      <th>country</th>\n",
              "      <th></th>\n",
              "    </tr>\n",
              "  </thead>\n",
              "  <tbody>\n",
              "    <tr>\n",
              "      <th>India</th>\n",
              "      <td>Delhi</td>\n",
              "    </tr>\n",
              "  </tbody>\n",
              "</table>\n",
              "</div>"
            ],
            "text/plain": [
              "         state\n",
              "country       \n",
              "India    Delhi"
            ]
          },
          "metadata": {
            "tags": []
          },
          "execution_count": 30
        }
      ]
    },
    {
      "cell_type": "code",
      "metadata": {
        "id": "sRgIJ4u3ervm",
        "outputId": "5010f212-a9ed-40d8-e7f4-7e56c1d6e882",
        "colab": {
          "base_uri": "https://localhost:8080/",
          "height": 237
        }
      },
      "source": [
        "state = df.groupby('state').max()[['city']]\n",
        "state"
      ],
      "execution_count": 31,
      "outputs": [
        {
          "output_type": "execute_result",
          "data": {
            "text/html": [
              "<div>\n",
              "<style scoped>\n",
              "    .dataframe tbody tr th:only-of-type {\n",
              "        vertical-align: middle;\n",
              "    }\n",
              "\n",
              "    .dataframe tbody tr th {\n",
              "        vertical-align: top;\n",
              "    }\n",
              "\n",
              "    .dataframe thead th {\n",
              "        text-align: right;\n",
              "    }\n",
              "</style>\n",
              "<table border=\"1\" class=\"dataframe\">\n",
              "  <thead>\n",
              "    <tr style=\"text-align: right;\">\n",
              "      <th></th>\n",
              "      <th>city</th>\n",
              "    </tr>\n",
              "    <tr>\n",
              "      <th>state</th>\n",
              "      <th></th>\n",
              "    </tr>\n",
              "  </thead>\n",
              "  <tbody>\n",
              "    <tr>\n",
              "      <th>Andhra_Pradesh</th>\n",
              "      <td>Visakhapatnam</td>\n",
              "    </tr>\n",
              "    <tr>\n",
              "      <th>Assam</th>\n",
              "      <td>Guwahati</td>\n",
              "    </tr>\n",
              "    <tr>\n",
              "      <th>Bihar</th>\n",
              "      <td>Patna</td>\n",
              "    </tr>\n",
              "    <tr>\n",
              "      <th>Chandigarh</th>\n",
              "      <td>Chandigarh</td>\n",
              "    </tr>\n",
              "    <tr>\n",
              "      <th>Delhi</th>\n",
              "      <td>Delhi</td>\n",
              "    </tr>\n",
              "  </tbody>\n",
              "</table>\n",
              "</div>"
            ],
            "text/plain": [
              "                         city\n",
              "state                        \n",
              "Andhra_Pradesh  Visakhapatnam\n",
              "Assam                Guwahati\n",
              "Bihar                   Patna\n",
              "Chandigarh         Chandigarh\n",
              "Delhi                   Delhi"
            ]
          },
          "metadata": {
            "tags": []
          },
          "execution_count": 31
        }
      ]
    },
    {
      "cell_type": "code",
      "metadata": {
        "id": "XqQGONQferVv",
        "outputId": "e3fddb3e-81c9-4f36-8531-8f319a7cbc24",
        "colab": {
          "base_uri": "https://localhost:8080/",
          "height": 237
        }
      },
      "source": [
        "state = df.groupby('state').max()[['station']]\n",
        "state"
      ],
      "execution_count": 32,
      "outputs": [
        {
          "output_type": "execute_result",
          "data": {
            "text/html": [
              "<div>\n",
              "<style scoped>\n",
              "    .dataframe tbody tr th:only-of-type {\n",
              "        vertical-align: middle;\n",
              "    }\n",
              "\n",
              "    .dataframe tbody tr th {\n",
              "        vertical-align: top;\n",
              "    }\n",
              "\n",
              "    .dataframe thead th {\n",
              "        text-align: right;\n",
              "    }\n",
              "</style>\n",
              "<table border=\"1\" class=\"dataframe\">\n",
              "  <thead>\n",
              "    <tr style=\"text-align: right;\">\n",
              "      <th></th>\n",
              "      <th>station</th>\n",
              "    </tr>\n",
              "    <tr>\n",
              "      <th>state</th>\n",
              "      <th></th>\n",
              "    </tr>\n",
              "  </thead>\n",
              "  <tbody>\n",
              "    <tr>\n",
              "      <th>Andhra_Pradesh</th>\n",
              "      <td>Tirumala, Tirupati - APPCB</td>\n",
              "    </tr>\n",
              "    <tr>\n",
              "      <th>Assam</th>\n",
              "      <td>Railway Colony, Guwahati - APCB</td>\n",
              "    </tr>\n",
              "    <tr>\n",
              "      <th>Bihar</th>\n",
              "      <td>Samanpura, Patna - BSPCB</td>\n",
              "    </tr>\n",
              "    <tr>\n",
              "      <th>Chandigarh</th>\n",
              "      <td>Sector-25, Chandigarh - CPCC</td>\n",
              "    </tr>\n",
              "    <tr>\n",
              "      <th>Delhi</th>\n",
              "      <td>Lodhi Road, Delhi - IMD</td>\n",
              "    </tr>\n",
              "  </tbody>\n",
              "</table>\n",
              "</div>"
            ],
            "text/plain": [
              "                                        station\n",
              "state                                          \n",
              "Andhra_Pradesh       Tirumala, Tirupati - APPCB\n",
              "Assam           Railway Colony, Guwahati - APCB\n",
              "Bihar                  Samanpura, Patna - BSPCB\n",
              "Chandigarh         Sector-25, Chandigarh - CPCC\n",
              "Delhi                   Lodhi Road, Delhi - IMD"
            ]
          },
          "metadata": {
            "tags": []
          },
          "execution_count": 32
        }
      ]
    },
    {
      "cell_type": "code",
      "metadata": {
        "id": "kBojQyyGerMc",
        "outputId": "02fd7407-1d10-4ab6-fa35-afad41d888f0",
        "colab": {
          "base_uri": "https://localhost:8080/",
          "height": 237
        }
      },
      "source": [
        "state = df.groupby('state').max()[['pollutant_id']]\n",
        "state"
      ],
      "execution_count": 33,
      "outputs": [
        {
          "output_type": "execute_result",
          "data": {
            "text/html": [
              "<div>\n",
              "<style scoped>\n",
              "    .dataframe tbody tr th:only-of-type {\n",
              "        vertical-align: middle;\n",
              "    }\n",
              "\n",
              "    .dataframe tbody tr th {\n",
              "        vertical-align: top;\n",
              "    }\n",
              "\n",
              "    .dataframe thead th {\n",
              "        text-align: right;\n",
              "    }\n",
              "</style>\n",
              "<table border=\"1\" class=\"dataframe\">\n",
              "  <thead>\n",
              "    <tr style=\"text-align: right;\">\n",
              "      <th></th>\n",
              "      <th>pollutant_id</th>\n",
              "    </tr>\n",
              "    <tr>\n",
              "      <th>state</th>\n",
              "      <th></th>\n",
              "    </tr>\n",
              "  </thead>\n",
              "  <tbody>\n",
              "    <tr>\n",
              "      <th>Andhra_Pradesh</th>\n",
              "      <td>SO2</td>\n",
              "    </tr>\n",
              "    <tr>\n",
              "      <th>Assam</th>\n",
              "      <td>SO2</td>\n",
              "    </tr>\n",
              "    <tr>\n",
              "      <th>Bihar</th>\n",
              "      <td>SO2</td>\n",
              "    </tr>\n",
              "    <tr>\n",
              "      <th>Chandigarh</th>\n",
              "      <td>SO2</td>\n",
              "    </tr>\n",
              "    <tr>\n",
              "      <th>Delhi</th>\n",
              "      <td>SO2</td>\n",
              "    </tr>\n",
              "  </tbody>\n",
              "</table>\n",
              "</div>"
            ],
            "text/plain": [
              "               pollutant_id\n",
              "state                      \n",
              "Andhra_Pradesh          SO2\n",
              "Assam                   SO2\n",
              "Bihar                   SO2\n",
              "Chandigarh              SO2\n",
              "Delhi                   SO2"
            ]
          },
          "metadata": {
            "tags": []
          },
          "execution_count": 33
        }
      ]
    },
    {
      "cell_type": "code",
      "metadata": {
        "id": "utYmA5tXdavI",
        "outputId": "38fde907-17b5-40d1-a0ea-d9e15af5113b",
        "colab": {
          "base_uri": "https://localhost:8080/",
          "height": 426
        }
      },
      "source": [
        "city = df.groupby('city').max()[['pollutant_id']]\n",
        "city"
      ],
      "execution_count": 34,
      "outputs": [
        {
          "output_type": "execute_result",
          "data": {
            "text/html": [
              "<div>\n",
              "<style scoped>\n",
              "    .dataframe tbody tr th:only-of-type {\n",
              "        vertical-align: middle;\n",
              "    }\n",
              "\n",
              "    .dataframe tbody tr th {\n",
              "        vertical-align: top;\n",
              "    }\n",
              "\n",
              "    .dataframe thead th {\n",
              "        text-align: right;\n",
              "    }\n",
              "</style>\n",
              "<table border=\"1\" class=\"dataframe\">\n",
              "  <thead>\n",
              "    <tr style=\"text-align: right;\">\n",
              "      <th></th>\n",
              "      <th>pollutant_id</th>\n",
              "    </tr>\n",
              "    <tr>\n",
              "      <th>city</th>\n",
              "      <th></th>\n",
              "    </tr>\n",
              "  </thead>\n",
              "  <tbody>\n",
              "    <tr>\n",
              "      <th>Amaravati</th>\n",
              "      <td>SO2</td>\n",
              "    </tr>\n",
              "    <tr>\n",
              "      <th>Chandigarh</th>\n",
              "      <td>SO2</td>\n",
              "    </tr>\n",
              "    <tr>\n",
              "      <th>Delhi</th>\n",
              "      <td>SO2</td>\n",
              "    </tr>\n",
              "    <tr>\n",
              "      <th>Gaya</th>\n",
              "      <td>SO2</td>\n",
              "    </tr>\n",
              "    <tr>\n",
              "      <th>Guwahati</th>\n",
              "      <td>SO2</td>\n",
              "    </tr>\n",
              "    <tr>\n",
              "      <th>Hajipur</th>\n",
              "      <td>SO2</td>\n",
              "    </tr>\n",
              "    <tr>\n",
              "      <th>Muzaffarpur</th>\n",
              "      <td>SO2</td>\n",
              "    </tr>\n",
              "    <tr>\n",
              "      <th>Patna</th>\n",
              "      <td>SO2</td>\n",
              "    </tr>\n",
              "    <tr>\n",
              "      <th>Rajamahendravaram</th>\n",
              "      <td>SO2</td>\n",
              "    </tr>\n",
              "    <tr>\n",
              "      <th>Tirupati</th>\n",
              "      <td>SO2</td>\n",
              "    </tr>\n",
              "    <tr>\n",
              "      <th>Visakhapatnam</th>\n",
              "      <td>OZONE</td>\n",
              "    </tr>\n",
              "  </tbody>\n",
              "</table>\n",
              "</div>"
            ],
            "text/plain": [
              "                  pollutant_id\n",
              "city                          \n",
              "Amaravati                  SO2\n",
              "Chandigarh                 SO2\n",
              "Delhi                      SO2\n",
              "Gaya                       SO2\n",
              "Guwahati                   SO2\n",
              "Hajipur                    SO2\n",
              "Muzaffarpur                SO2\n",
              "Patna                      SO2\n",
              "Rajamahendravaram          SO2\n",
              "Tirupati                   SO2\n",
              "Visakhapatnam            OZONE"
            ]
          },
          "metadata": {
            "tags": []
          },
          "execution_count": 34
        }
      ]
    },
    {
      "cell_type": "code",
      "metadata": {
        "id": "zOSJXZ0gdvak",
        "outputId": "d8dd7b2e-8fbf-4e6e-ef7d-70dfa583c645",
        "colab": {
          "base_uri": "https://localhost:8080/",
          "height": 1000
        }
      },
      "source": [
        "station = df.groupby('station').max()[['pollutant_id']]\n",
        "station"
      ],
      "execution_count": 35,
      "outputs": [
        {
          "output_type": "execute_result",
          "data": {
            "text/html": [
              "<div>\n",
              "<style scoped>\n",
              "    .dataframe tbody tr th:only-of-type {\n",
              "        vertical-align: middle;\n",
              "    }\n",
              "\n",
              "    .dataframe tbody tr th {\n",
              "        vertical-align: top;\n",
              "    }\n",
              "\n",
              "    .dataframe thead th {\n",
              "        text-align: right;\n",
              "    }\n",
              "</style>\n",
              "<table border=\"1\" class=\"dataframe\">\n",
              "  <thead>\n",
              "    <tr style=\"text-align: right;\">\n",
              "      <th></th>\n",
              "      <th>pollutant_id</th>\n",
              "    </tr>\n",
              "    <tr>\n",
              "      <th>station</th>\n",
              "      <th></th>\n",
              "    </tr>\n",
              "  </thead>\n",
              "  <tbody>\n",
              "    <tr>\n",
              "      <th>Alipur, Delhi - DPCC</th>\n",
              "      <td>SO2</td>\n",
              "    </tr>\n",
              "    <tr>\n",
              "      <th>Anand Kala Kshetram, Rajamahendravaram - APPCB</th>\n",
              "      <td>SO2</td>\n",
              "    </tr>\n",
              "    <tr>\n",
              "      <th>Anand Vihar, Delhi - DPCC</th>\n",
              "      <td>SO2</td>\n",
              "    </tr>\n",
              "    <tr>\n",
              "      <th>Ashok Vihar, Delhi - DPCC</th>\n",
              "      <td>SO2</td>\n",
              "    </tr>\n",
              "    <tr>\n",
              "      <th>Aya Nagar, Delhi - IMD</th>\n",
              "      <td>PM2.5</td>\n",
              "    </tr>\n",
              "    <tr>\n",
              "      <th>Bawana, Delhi - DPCC</th>\n",
              "      <td>SO2</td>\n",
              "    </tr>\n",
              "    <tr>\n",
              "      <th>Buddha Colony, Muzaffarpur - BSPCB</th>\n",
              "      <td>SO2</td>\n",
              "    </tr>\n",
              "    <tr>\n",
              "      <th>CRRI Mathura Road, Delhi - IMD</th>\n",
              "      <td>PM2.5</td>\n",
              "    </tr>\n",
              "    <tr>\n",
              "      <th>DRM Office Danapur, Patna - BSPCB</th>\n",
              "      <td>SO2</td>\n",
              "    </tr>\n",
              "    <tr>\n",
              "      <th>DTU, Delhi - CPCB</th>\n",
              "      <td>SO2</td>\n",
              "    </tr>\n",
              "    <tr>\n",
              "      <th>Dr. Karni Singh Shooting Range, Delhi - DPCC</th>\n",
              "      <td>SO2</td>\n",
              "    </tr>\n",
              "    <tr>\n",
              "      <th>Dwarka-Sector 8, Delhi - DPCC</th>\n",
              "      <td>SO2</td>\n",
              "    </tr>\n",
              "    <tr>\n",
              "      <th>GVM Corporation, Visakhapatnam - APPCB</th>\n",
              "      <td>OZONE</td>\n",
              "    </tr>\n",
              "    <tr>\n",
              "      <th>Govt. High School Shikarpur, Patna - BSPCB</th>\n",
              "      <td>SO2</td>\n",
              "    </tr>\n",
              "    <tr>\n",
              "      <th>IGI Airport (T3), Delhi - IMD</th>\n",
              "      <td>PM2.5</td>\n",
              "    </tr>\n",
              "    <tr>\n",
              "      <th>IGSC Planetarium Complex, Patna - BSPCB</th>\n",
              "      <td>SO2</td>\n",
              "    </tr>\n",
              "    <tr>\n",
              "      <th>IHBAS, Dilshad Garden, Delhi - CPCB</th>\n",
              "      <td>SO2</td>\n",
              "    </tr>\n",
              "    <tr>\n",
              "      <th>ITO, Delhi - CPCB</th>\n",
              "      <td>SO2</td>\n",
              "    </tr>\n",
              "    <tr>\n",
              "      <th>Industrial Area, Hajipur - BSPCB</th>\n",
              "      <td>SO2</td>\n",
              "    </tr>\n",
              "    <tr>\n",
              "      <th>Jahangirpuri, Delhi - DPCC</th>\n",
              "      <td>SO2</td>\n",
              "    </tr>\n",
              "    <tr>\n",
              "      <th>Jawaharlal Nehru Stadium, Delhi - DPCC</th>\n",
              "      <td>SO2</td>\n",
              "    </tr>\n",
              "    <tr>\n",
              "      <th>Lodhi Road, Delhi - IMD</th>\n",
              "      <td>PM2.5</td>\n",
              "    </tr>\n",
              "    <tr>\n",
              "      <th>Muradpur, Patna - BSPCB</th>\n",
              "      <td>SO2</td>\n",
              "    </tr>\n",
              "    <tr>\n",
              "      <th>Muzaffarpur Collectorate, Muzaffarpur - BSPCB</th>\n",
              "      <td>SO2</td>\n",
              "    </tr>\n",
              "    <tr>\n",
              "      <th>Railway Colony, Guwahati - APCB</th>\n",
              "      <td>SO2</td>\n",
              "    </tr>\n",
              "    <tr>\n",
              "      <th>Rajbansi Nagar, Patna - BSPCB</th>\n",
              "      <td>SO2</td>\n",
              "    </tr>\n",
              "    <tr>\n",
              "      <th>SFTI Kusdihra, Gaya - BSPCB</th>\n",
              "      <td>SO2</td>\n",
              "    </tr>\n",
              "    <tr>\n",
              "      <th>Samanpura, Patna - BSPCB</th>\n",
              "      <td>SO2</td>\n",
              "    </tr>\n",
              "    <tr>\n",
              "      <th>Secretariat, Amaravati - APPCB</th>\n",
              "      <td>SO2</td>\n",
              "    </tr>\n",
              "    <tr>\n",
              "      <th>Sector-25, Chandigarh - CPCC</th>\n",
              "      <td>SO2</td>\n",
              "    </tr>\n",
              "    <tr>\n",
              "      <th>Tirumala, Tirupati - APPCB</th>\n",
              "      <td>SO2</td>\n",
              "    </tr>\n",
              "  </tbody>\n",
              "</table>\n",
              "</div>"
            ],
            "text/plain": [
              "                                               pollutant_id\n",
              "station                                                    \n",
              "Alipur, Delhi - DPCC                                    SO2\n",
              "Anand Kala Kshetram, Rajamahendravaram - APPCB          SO2\n",
              "Anand Vihar, Delhi - DPCC                               SO2\n",
              "Ashok Vihar, Delhi - DPCC                               SO2\n",
              "Aya Nagar, Delhi - IMD                                PM2.5\n",
              "Bawana, Delhi - DPCC                                    SO2\n",
              "Buddha Colony, Muzaffarpur - BSPCB                      SO2\n",
              "CRRI Mathura Road, Delhi - IMD                        PM2.5\n",
              "DRM Office Danapur, Patna - BSPCB                       SO2\n",
              "DTU, Delhi - CPCB                                       SO2\n",
              "Dr. Karni Singh Shooting Range, Delhi - DPCC            SO2\n",
              "Dwarka-Sector 8, Delhi - DPCC                           SO2\n",
              "GVM Corporation, Visakhapatnam - APPCB                OZONE\n",
              "Govt. High School Shikarpur, Patna - BSPCB              SO2\n",
              "IGI Airport (T3), Delhi - IMD                         PM2.5\n",
              "IGSC Planetarium Complex, Patna - BSPCB                 SO2\n",
              "IHBAS, Dilshad Garden, Delhi - CPCB                     SO2\n",
              "ITO, Delhi - CPCB                                       SO2\n",
              "Industrial Area, Hajipur - BSPCB                        SO2\n",
              "Jahangirpuri, Delhi - DPCC                              SO2\n",
              "Jawaharlal Nehru Stadium, Delhi - DPCC                  SO2\n",
              "Lodhi Road, Delhi - IMD                               PM2.5\n",
              "Muradpur, Patna - BSPCB                                 SO2\n",
              "Muzaffarpur Collectorate, Muzaffarpur - BSPCB           SO2\n",
              "Railway Colony, Guwahati - APCB                         SO2\n",
              "Rajbansi Nagar, Patna - BSPCB                           SO2\n",
              "SFTI Kusdihra, Gaya - BSPCB                             SO2\n",
              "Samanpura, Patna - BSPCB                                SO2\n",
              "Secretariat, Amaravati - APPCB                          SO2\n",
              "Sector-25, Chandigarh - CPCC                            SO2\n",
              "Tirumala, Tirupati - APPCB                              SO2"
            ]
          },
          "metadata": {
            "tags": []
          },
          "execution_count": 35
        }
      ]
    },
    {
      "cell_type": "code",
      "metadata": {
        "id": "Jg9TiFaklInk",
        "outputId": "3c414ac7-0a3d-4999-9ec1-836cce6cbdff",
        "colab": {
          "base_uri": "https://localhost:8080/",
          "height": 300
        }
      },
      "source": [
        "df.groupby('pollutant_id').max()[['state','last_update']].tail(20)"
      ],
      "execution_count": 36,
      "outputs": [
        {
          "output_type": "execute_result",
          "data": {
            "text/html": [
              "<div>\n",
              "<style scoped>\n",
              "    .dataframe tbody tr th:only-of-type {\n",
              "        vertical-align: middle;\n",
              "    }\n",
              "\n",
              "    .dataframe tbody tr th {\n",
              "        vertical-align: top;\n",
              "    }\n",
              "\n",
              "    .dataframe thead th {\n",
              "        text-align: right;\n",
              "    }\n",
              "</style>\n",
              "<table border=\"1\" class=\"dataframe\">\n",
              "  <thead>\n",
              "    <tr style=\"text-align: right;\">\n",
              "      <th></th>\n",
              "      <th>state</th>\n",
              "      <th>last_update</th>\n",
              "    </tr>\n",
              "    <tr>\n",
              "      <th>pollutant_id</th>\n",
              "      <th></th>\n",
              "      <th></th>\n",
              "    </tr>\n",
              "  </thead>\n",
              "  <tbody>\n",
              "    <tr>\n",
              "      <th>CO</th>\n",
              "      <td>Delhi</td>\n",
              "      <td>14-10-2020 08:00:00</td>\n",
              "    </tr>\n",
              "    <tr>\n",
              "      <th>NH3</th>\n",
              "      <td>Delhi</td>\n",
              "      <td>14-10-2020 08:00:00</td>\n",
              "    </tr>\n",
              "    <tr>\n",
              "      <th>NO2</th>\n",
              "      <td>Delhi</td>\n",
              "      <td>14-10-2020 08:00:00</td>\n",
              "    </tr>\n",
              "    <tr>\n",
              "      <th>OZONE</th>\n",
              "      <td>Delhi</td>\n",
              "      <td>14-10-2020 08:00:00</td>\n",
              "    </tr>\n",
              "    <tr>\n",
              "      <th>PM10</th>\n",
              "      <td>Delhi</td>\n",
              "      <td>14-10-2020 08:00:00</td>\n",
              "    </tr>\n",
              "    <tr>\n",
              "      <th>PM2.5</th>\n",
              "      <td>Delhi</td>\n",
              "      <td>14-10-2020 08:00:00</td>\n",
              "    </tr>\n",
              "    <tr>\n",
              "      <th>SO2</th>\n",
              "      <td>Delhi</td>\n",
              "      <td>14-10-2020 08:00:00</td>\n",
              "    </tr>\n",
              "  </tbody>\n",
              "</table>\n",
              "</div>"
            ],
            "text/plain": [
              "              state          last_update\n",
              "pollutant_id                            \n",
              "CO            Delhi  14-10-2020 08:00:00\n",
              "NH3           Delhi  14-10-2020 08:00:00\n",
              "NO2           Delhi  14-10-2020 08:00:00\n",
              "OZONE         Delhi  14-10-2020 08:00:00\n",
              "PM10          Delhi  14-10-2020 08:00:00\n",
              "PM2.5         Delhi  14-10-2020 08:00:00\n",
              "SO2           Delhi  14-10-2020 08:00:00"
            ]
          },
          "metadata": {
            "tags": []
          },
          "execution_count": 36
        }
      ]
    },
    {
      "cell_type": "markdown",
      "metadata": {
        "id": "3CWLM8keigLY"
      },
      "source": [
        "#Pair plot"
      ]
    },
    {
      "cell_type": "code",
      "metadata": {
        "id": "SDtO5AIdiKNU",
        "outputId": "955f6760-87bc-46da-cb4d-3918514436a5",
        "colab": {
          "base_uri": "https://localhost:8080/",
          "height": 569
        }
      },
      "source": [
        "sns.pairplot(df, palette=\"Set2\")"
      ],
      "execution_count": 37,
      "outputs": [
        {
          "output_type": "execute_result",
          "data": {
            "text/plain": [
              "<seaborn.axisgrid.PairGrid at 0x7fe2dc988898>"
            ]
          },
          "metadata": {
            "tags": []
          },
          "execution_count": 37
        },
        {
          "output_type": "display_data",
          "data": {
            "image/png": "[encoded data removed]",
            "text/plain": [
              "<Figure size 540x540 with 12 Axes>"
            ]
          },
          "metadata": {
            "tags": [],
            "needs_background": "light"
          }
        }
      ]
    },
    {
      "cell_type": "markdown",
      "metadata": {
        "id": "pSH6xLEVug7L"
      },
      "source": [
        "#Bar Plots"
      ]
    },
    {
      "cell_type": "code",
      "metadata": {
        "id": "Khjcf2cDuN11",
        "outputId": "e778abe8-de89-47e4-bc13-a241d9aa552a",
        "colab": {
          "base_uri": "https://localhost:8080/",
          "height": 507
        }
      },
      "source": [
        "plt.figure(figsize=(15,7))\n",
        "df.groupby(['state']).size().plot(kind = \"bar\")"
      ],
      "execution_count": 38,
      "outputs": [
        {
          "output_type": "execute_result",
          "data": {
            "text/plain": [
              "<matplotlib.axes._subplots.AxesSubplot at 0x7fe2dc220828>"
            ]
          },
          "metadata": {
            "tags": []
          },
          "execution_count": 38
        },
        {
          "output_type": "display_data",
          "data": {
            "image/png": "[encoded data removed]",
            "text/plain": [
              "<Figure size 1080x504 with 1 Axes>"
            ]
          },
          "metadata": {
            "tags": [],
            "needs_background": "light"
          }
        }
      ]
    },
    {
      "cell_type": "code",
      "metadata": {
        "id": "QWsdHJfduy-a",
        "outputId": "2aff12d1-7c33-4961-8021-243647e7e952",
        "colab": {
          "base_uri": "https://localhost:8080/",
          "height": 529
        }
      },
      "source": [
        "plt.figure(figsize=(15,7))\n",
        "df.groupby(['city']).size().plot(kind = \"bar\")"
      ],
      "execution_count": 39,
      "outputs": [
        {
          "output_type": "execute_result",
          "data": {
            "text/plain": [
              "<matplotlib.axes._subplots.AxesSubplot at 0x7fe2d970b9e8>"
            ]
          },
          "metadata": {
            "tags": []
          },
          "execution_count": 39
        },
        {
          "output_type": "display_data",
          "data": {
            "image/png": "[encoded data removed]",
            "text/plain": [
              "<Figure size 1080x504 with 1 Axes>"
            ]
          },
          "metadata": {
            "tags": [],
            "needs_background": "light"
          }
        }
      ]
    },
    {
      "cell_type": "code",
      "metadata": {
        "id": "R-MmOJ6Uuy6B",
        "outputId": "aaea2f5e-6e6d-4948-e9e5-5bf4d07ca209",
        "colab": {
          "base_uri": "https://localhost:8080/",
          "height": 683
        }
      },
      "source": [
        "plt.figure(figsize=(15,7))\n",
        "df.groupby(['station']).size().plot(kind = \"bar\")"
      ],
      "execution_count": 40,
      "outputs": [
        {
          "output_type": "execute_result",
          "data": {
            "text/plain": [
              "<matplotlib.axes._subplots.AxesSubplot at 0x7fe2d96914e0>"
            ]
          },
          "metadata": {
            "tags": []
          },
          "execution_count": 40
        },
        {
          "output_type": "display_data",
          "data": {
            "image/png": "[encoded data removed]",
            "text/plain": [
              "<Figure size 1080x504 with 1 Axes>"
            ]
          },
          "metadata": {
            "tags": [],
            "needs_background": "light"
          }
        }
      ]
    },
    {
      "cell_type": "code",
      "metadata": {
        "id": "9YQpJXOEuyf-",
        "outputId": "0a21eec3-929a-4fd3-f21f-228d7c7a7ded",
        "colab": {
          "base_uri": "https://localhost:8080/",
          "height": 464
        }
      },
      "source": [
        "plt.figure(figsize=(15,7))\n",
        "df.groupby(['pollutant_id']).size().plot(kind = \"bar\")"
      ],
      "execution_count": 41,
      "outputs": [
        {
          "output_type": "execute_result",
          "data": {
            "text/plain": [
              "<matplotlib.axes._subplots.AxesSubplot at 0x7fe2d9586ef0>"
            ]
          },
          "metadata": {
            "tags": []
          },
          "execution_count": 41
        },
        {
          "output_type": "display_data",
          "data": {
            "image/png": "[encoded data removed]",
            "text/plain": [
              "<Figure size 1080x504 with 1 Axes>"
            ]
          },
          "metadata": {
            "tags": [],
            "needs_background": "light"
          }
        }
      ]
    },
    {
      "cell_type": "code",
      "metadata": {
        "id": "nGPTvw2-jy1j",
        "outputId": "a6e467f6-974a-470a-fa50-cfb03fe9eb44",
        "colab": {
          "base_uri": "https://localhost:8080/",
          "height": 73
        }
      },
      "source": [
        "df.columns"
      ],
      "execution_count": 42,
      "outputs": [
        {
          "output_type": "execute_result",
          "data": {
            "text/plain": [
              "Index(['country', 'state', 'city', 'station', 'last_update', 'pollutant_id',\n",
              "       'pollutant_min', 'pollutant_max', 'pollutant_avg'],\n",
              "      dtype='object')"
            ]
          },
          "metadata": {
            "tags": []
          },
          "execution_count": 42
        }
      ]
    },
    {
      "cell_type": "markdown",
      "metadata": {
        "id": "jTOD286WdJRb"
      },
      "source": [
        "#Box Plot"
      ]
    },
    {
      "cell_type": "code",
      "metadata": {
        "id": "SV4EBUl6caXY",
        "outputId": "6721dc52-c34a-4679-ad86-6f7036957fa1",
        "colab": {
          "base_uri": "https://localhost:8080/",
          "height": 299
        }
      },
      "source": [
        "sns.boxplot(x='pollutant_id',y='pollutant_min',data=df,palette='rainbow')"
      ],
      "execution_count": 43,
      "outputs": [
        {
          "output_type": "execute_result",
          "data": {
            "text/plain": [
              "<matplotlib.axes._subplots.AxesSubplot at 0x7fe2d97d0358>"
            ]
          },
          "metadata": {
            "tags": []
          },
          "execution_count": 43
        },
        {
          "output_type": "display_data",
          "data": {
            "image/png": "[encoded data removed]",
            "text/plain": [
              "<Figure size 432x288 with 1 Axes>"
            ]
          },
          "metadata": {
            "tags": [],
            "needs_background": "light"
          }
        }
      ]
    },
    {
      "cell_type": "code",
      "metadata": {
        "id": "hjGUxZlrcaTS",
        "outputId": "03ae08d0-c615-4090-a66d-75b08b506de2",
        "colab": {
          "base_uri": "https://localhost:8080/",
          "height": 299
        }
      },
      "source": [
        "sns.boxplot(x='pollutant_id',y='pollutant_max',data=df,palette='rainbow')"
      ],
      "execution_count": 44,
      "outputs": [
        {
          "output_type": "execute_result",
          "data": {
            "text/plain": [
              "<matplotlib.axes._subplots.AxesSubplot at 0x7fe2d7c52208>"
            ]
          },
          "metadata": {
            "tags": []
          },
          "execution_count": 44
        },
        {
          "output_type": "display_data",
          "data": {
            "image/png": "[encoded data removed]",
            "text/plain": [
              "<Figure size 432x288 with 1 Axes>"
            ]
          },
          "metadata": {
            "tags": [],
            "needs_background": "light"
          }
        }
      ]
    },
    {
      "cell_type": "code",
      "metadata": {
        "id": "oxdidTTZcaOR",
        "outputId": "dd73b081-4de0-4267-a364-328c518e9d29",
        "colab": {
          "base_uri": "https://localhost:8080/",
          "height": 301
        }
      },
      "source": [
        "sns.boxplot(x='pollutant_id',y='pollutant_avg',data=df,palette='rainbow')"
      ],
      "execution_count": 45,
      "outputs": [
        {
          "output_type": "execute_result",
          "data": {
            "text/plain": [
              "<matplotlib.axes._subplots.AxesSubplot at 0x7fe2d7b78b38>"
            ]
          },
          "metadata": {
            "tags": []
          },
          "execution_count": 45
        },
        {
          "output_type": "display_data",
          "data": {
            "image/png": "[encoded data removed]",
            "text/plain": [
              "<Figure size 432x288 with 1 Axes>"
            ]
          },
          "metadata": {
            "tags": [],
            "needs_background": "light"
          }
        }
      ]
    },
    {
      "cell_type": "code",
      "metadata": {
        "id": "Bjsts0AJcZ8n",
        "outputId": "611bb2bf-89c2-476e-fb52-8cf4fc99c36f",
        "colab": {
          "base_uri": "https://localhost:8080/",
          "height": 400
        }
      },
      "source": [
        "df.head()"
      ],
      "execution_count": 46,
      "outputs": [
        {
          "output_type": "execute_result",
          "data": {
            "text/html": [
              "<div>\n",
              "<style scoped>\n",
              "    .dataframe tbody tr th:only-of-type {\n",
              "        vertical-align: middle;\n",
              "    }\n",
              "\n",
              "    .dataframe tbody tr th {\n",
              "        vertical-align: top;\n",
              "    }\n",
              "\n",
              "    .dataframe thead th {\n",
              "        text-align: right;\n",
              "    }\n",
              "</style>\n",
              "<table border=\"1\" class=\"dataframe\">\n",
              "  <thead>\n",
              "    <tr style=\"text-align: right;\">\n",
              "      <th></th>\n",
              "      <th>country</th>\n",
              "      <th>state</th>\n",
              "      <th>city</th>\n",
              "      <th>station</th>\n",
              "      <th>last_update</th>\n",
              "      <th>pollutant_id</th>\n",
              "      <th>pollutant_min</th>\n",
              "      <th>pollutant_max</th>\n",
              "      <th>pollutant_avg</th>\n",
              "    </tr>\n",
              "  </thead>\n",
              "  <tbody>\n",
              "    <tr>\n",
              "      <th>0</th>\n",
              "      <td>India</td>\n",
              "      <td>Andhra_Pradesh</td>\n",
              "      <td>Amaravati</td>\n",
              "      <td>Secretariat, Amaravati - APPCB</td>\n",
              "      <td>14-10-2020 08:00:00</td>\n",
              "      <td>PM2.5</td>\n",
              "      <td>9.0</td>\n",
              "      <td>32.0</td>\n",
              "      <td>19.0</td>\n",
              "    </tr>\n",
              "    <tr>\n",
              "      <th>1</th>\n",
              "      <td>India</td>\n",
              "      <td>Andhra_Pradesh</td>\n",
              "      <td>Amaravati</td>\n",
              "      <td>Secretariat, Amaravati - APPCB</td>\n",
              "      <td>14-10-2020 08:00:00</td>\n",
              "      <td>PM10</td>\n",
              "      <td>14.0</td>\n",
              "      <td>36.0</td>\n",
              "      <td>22.0</td>\n",
              "    </tr>\n",
              "    <tr>\n",
              "      <th>2</th>\n",
              "      <td>India</td>\n",
              "      <td>Andhra_Pradesh</td>\n",
              "      <td>Amaravati</td>\n",
              "      <td>Secretariat, Amaravati - APPCB</td>\n",
              "      <td>14-10-2020 08:00:00</td>\n",
              "      <td>NO2</td>\n",
              "      <td>21.0</td>\n",
              "      <td>40.0</td>\n",
              "      <td>30.0</td>\n",
              "    </tr>\n",
              "    <tr>\n",
              "      <th>3</th>\n",
              "      <td>India</td>\n",
              "      <td>Andhra_Pradesh</td>\n",
              "      <td>Amaravati</td>\n",
              "      <td>Secretariat, Amaravati - APPCB</td>\n",
              "      <td>14-10-2020 08:00:00</td>\n",
              "      <td>NH3</td>\n",
              "      <td>2.0</td>\n",
              "      <td>4.0</td>\n",
              "      <td>3.0</td>\n",
              "    </tr>\n",
              "    <tr>\n",
              "      <th>4</th>\n",
              "      <td>India</td>\n",
              "      <td>Andhra_Pradesh</td>\n",
              "      <td>Amaravati</td>\n",
              "      <td>Secretariat, Amaravati - APPCB</td>\n",
              "      <td>14-10-2020 08:00:00</td>\n",
              "      <td>SO2</td>\n",
              "      <td>1.0</td>\n",
              "      <td>59.0</td>\n",
              "      <td>29.0</td>\n",
              "    </tr>\n",
              "  </tbody>\n",
              "</table>\n",
              "</div>"
            ],
            "text/plain": [
              "  country           state  ... pollutant_max pollutant_avg\n",
              "0   India  Andhra_Pradesh  ...          32.0          19.0\n",
              "1   India  Andhra_Pradesh  ...          36.0          22.0\n",
              "2   India  Andhra_Pradesh  ...          40.0          30.0\n",
              "3   India  Andhra_Pradesh  ...           4.0           3.0\n",
              "4   India  Andhra_Pradesh  ...          59.0          29.0\n",
              "\n",
              "[5 rows x 9 columns]"
            ]
          },
          "metadata": {
            "tags": []
          },
          "execution_count": 46
        }
      ]
    },
    {
      "cell_type": "code",
      "metadata": {
        "id": "14T9KLYRokDX",
        "outputId": "0f98f111-00ba-4460-8c54-0e71a70edfa4",
        "colab": {
          "base_uri": "https://localhost:8080/",
          "height": 504
        }
      },
      "source": [
        "df.tail()"
      ],
      "execution_count": 47,
      "outputs": [
        {
          "output_type": "execute_result",
          "data": {
            "text/html": [
              "<div>\n",
              "<style scoped>\n",
              "    .dataframe tbody tr th:only-of-type {\n",
              "        vertical-align: middle;\n",
              "    }\n",
              "\n",
              "    .dataframe tbody tr th {\n",
              "        vertical-align: top;\n",
              "    }\n",
              "\n",
              "    .dataframe thead th {\n",
              "        text-align: right;\n",
              "    }\n",
              "</style>\n",
              "<table border=\"1\" class=\"dataframe\">\n",
              "  <thead>\n",
              "    <tr style=\"text-align: right;\">\n",
              "      <th></th>\n",
              "      <th>country</th>\n",
              "      <th>state</th>\n",
              "      <th>city</th>\n",
              "      <th>station</th>\n",
              "      <th>last_update</th>\n",
              "      <th>pollutant_id</th>\n",
              "      <th>pollutant_min</th>\n",
              "      <th>pollutant_max</th>\n",
              "      <th>pollutant_avg</th>\n",
              "    </tr>\n",
              "  </thead>\n",
              "  <tbody>\n",
              "    <tr>\n",
              "      <th>195</th>\n",
              "      <td>India</td>\n",
              "      <td>Delhi</td>\n",
              "      <td>Delhi</td>\n",
              "      <td>Jawaharlal Nehru Stadium, Delhi - DPCC</td>\n",
              "      <td>14-10-2020 08:00:00</td>\n",
              "      <td>OZONE</td>\n",
              "      <td>7.0</td>\n",
              "      <td>92.0</td>\n",
              "      <td>50.0</td>\n",
              "    </tr>\n",
              "    <tr>\n",
              "      <th>196</th>\n",
              "      <td>India</td>\n",
              "      <td>Delhi</td>\n",
              "      <td>Delhi</td>\n",
              "      <td>Lodhi Road, Delhi - IMD</td>\n",
              "      <td>14-10-2020 08:00:00</td>\n",
              "      <td>PM2.5</td>\n",
              "      <td>77.0</td>\n",
              "      <td>155.0</td>\n",
              "      <td>116.0</td>\n",
              "    </tr>\n",
              "    <tr>\n",
              "      <th>197</th>\n",
              "      <td>India</td>\n",
              "      <td>Delhi</td>\n",
              "      <td>Delhi</td>\n",
              "      <td>Lodhi Road, Delhi - IMD</td>\n",
              "      <td>14-10-2020 08:00:00</td>\n",
              "      <td>PM10</td>\n",
              "      <td>134.0</td>\n",
              "      <td>199.0</td>\n",
              "      <td>163.0</td>\n",
              "    </tr>\n",
              "    <tr>\n",
              "      <th>198</th>\n",
              "      <td>India</td>\n",
              "      <td>Delhi</td>\n",
              "      <td>Delhi</td>\n",
              "      <td>Lodhi Road, Delhi - IMD</td>\n",
              "      <td>14-10-2020 08:00:00</td>\n",
              "      <td>NO2</td>\n",
              "      <td>8.0</td>\n",
              "      <td>20.0</td>\n",
              "      <td>13.0</td>\n",
              "    </tr>\n",
              "    <tr>\n",
              "      <th>199</th>\n",
              "      <td>India</td>\n",
              "      <td>Delhi</td>\n",
              "      <td>Delhi</td>\n",
              "      <td>Lodhi Road, Delhi - IMD</td>\n",
              "      <td>14-10-2020 08:00:00</td>\n",
              "      <td>CO</td>\n",
              "      <td>19.0</td>\n",
              "      <td>36.0</td>\n",
              "      <td>23.0</td>\n",
              "    </tr>\n",
              "  </tbody>\n",
              "</table>\n",
              "</div>"
            ],
            "text/plain": [
              "    country  state   city  ... pollutant_min pollutant_max pollutant_avg\n",
              "195   India  Delhi  Delhi  ...           7.0          92.0          50.0\n",
              "196   India  Delhi  Delhi  ...          77.0         155.0         116.0\n",
              "197   India  Delhi  Delhi  ...         134.0         199.0         163.0\n",
              "198   India  Delhi  Delhi  ...           8.0          20.0          13.0\n",
              "199   India  Delhi  Delhi  ...          19.0          36.0          23.0\n",
              "\n",
              "[5 rows x 9 columns]"
            ]
          },
          "metadata": {
            "tags": []
          },
          "execution_count": 47
        }
      ]
    },
    {
      "cell_type": "code",
      "metadata": {
        "id": "Nr26ZqTWppIY",
        "outputId": "775b03b6-59a0-48b9-b936-4a3075d8759f",
        "colab": {
          "base_uri": "https://localhost:8080/",
          "height": 73
        }
      },
      "source": [
        "df.columns"
      ],
      "execution_count": 48,
      "outputs": [
        {
          "output_type": "execute_result",
          "data": {
            "text/plain": [
              "Index(['country', 'state', 'city', 'station', 'last_update', 'pollutant_id',\n",
              "       'pollutant_min', 'pollutant_max', 'pollutant_avg'],\n",
              "      dtype='object')"
            ]
          },
          "metadata": {
            "tags": []
          },
          "execution_count": 48
        }
      ]
    },
    {
      "cell_type": "code",
      "metadata": {
        "id": "AtwEmwGdWYMz"
      },
      "source": [
        "df1 = df[['last_update','state','pollutant_id']]"
      ],
      "execution_count": 49,
      "outputs": []
    },
    {
      "cell_type": "code",
      "metadata": {
        "id": "6O2HCZJuWs0f",
        "outputId": "01740acc-7da0-4b0e-d812-af6909e664b2",
        "colab": {
          "base_uri": "https://localhost:8080/",
          "height": 206
        }
      },
      "source": [
        "df2 = pd.DataFrame(df1)\n",
        "df2.head()"
      ],
      "execution_count": 50,
      "outputs": [
        {
          "output_type": "execute_result",
          "data": {
            "text/html": [
              "<div>\n",
              "<style scoped>\n",
              "    .dataframe tbody tr th:only-of-type {\n",
              "        vertical-align: middle;\n",
              "    }\n",
              "\n",
              "    .dataframe tbody tr th {\n",
              "        vertical-align: top;\n",
              "    }\n",
              "\n",
              "    .dataframe thead th {\n",
              "        text-align: right;\n",
              "    }\n",
              "</style>\n",
              "<table border=\"1\" class=\"dataframe\">\n",
              "  <thead>\n",
              "    <tr style=\"text-align: right;\">\n",
              "      <th></th>\n",
              "      <th>last_update</th>\n",
              "      <th>state</th>\n",
              "      <th>pollutant_id</th>\n",
              "    </tr>\n",
              "  </thead>\n",
              "  <tbody>\n",
              "    <tr>\n",
              "      <th>0</th>\n",
              "      <td>14-10-2020 08:00:00</td>\n",
              "      <td>Andhra_Pradesh</td>\n",
              "      <td>PM2.5</td>\n",
              "    </tr>\n",
              "    <tr>\n",
              "      <th>1</th>\n",
              "      <td>14-10-2020 08:00:00</td>\n",
              "      <td>Andhra_Pradesh</td>\n",
              "      <td>PM10</td>\n",
              "    </tr>\n",
              "    <tr>\n",
              "      <th>2</th>\n",
              "      <td>14-10-2020 08:00:00</td>\n",
              "      <td>Andhra_Pradesh</td>\n",
              "      <td>NO2</td>\n",
              "    </tr>\n",
              "    <tr>\n",
              "      <th>3</th>\n",
              "      <td>14-10-2020 08:00:00</td>\n",
              "      <td>Andhra_Pradesh</td>\n",
              "      <td>NH3</td>\n",
              "    </tr>\n",
              "    <tr>\n",
              "      <th>4</th>\n",
              "      <td>14-10-2020 08:00:00</td>\n",
              "      <td>Andhra_Pradesh</td>\n",
              "      <td>SO2</td>\n",
              "    </tr>\n",
              "  </tbody>\n",
              "</table>\n",
              "</div>"
            ],
            "text/plain": [
              "           last_update           state pollutant_id\n",
              "0  14-10-2020 08:00:00  Andhra_Pradesh        PM2.5\n",
              "1  14-10-2020 08:00:00  Andhra_Pradesh         PM10\n",
              "2  14-10-2020 08:00:00  Andhra_Pradesh          NO2\n",
              "3  14-10-2020 08:00:00  Andhra_Pradesh          NH3\n",
              "4  14-10-2020 08:00:00  Andhra_Pradesh          SO2"
            ]
          },
          "metadata": {
            "tags": []
          },
          "execution_count": 50
        }
      ]
    },
    {
      "cell_type": "markdown",
      "metadata": {
        "id": "17ba9LwXu7pp"
      },
      "source": [
        "#Filter the Data set"
      ]
    },
    {
      "cell_type": "markdown",
      "metadata": {
        "id": "7IST9g0ezrYd"
      },
      "source": [
        "#PM2.5"
      ]
    },
    {
      "cell_type": "code",
      "metadata": {
        "id": "KAu5NWSxoK8Q"
      },
      "source": [
        "df3 = df2[df2['pollutant_id']=='PM2.5']"
      ],
      "execution_count": 51,
      "outputs": []
    },
    {
      "cell_type": "code",
      "metadata": {
        "id": "MolBkgIhzPKY",
        "outputId": "97952177-2897-4a26-c0a6-3e1342c22a01",
        "colab": {
          "base_uri": "https://localhost:8080/",
          "height": 206
        }
      },
      "source": [
        "df3.head()"
      ],
      "execution_count": 52,
      "outputs": [
        {
          "output_type": "execute_result",
          "data": {
            "text/html": [
              "<div>\n",
              "<style scoped>\n",
              "    .dataframe tbody tr th:only-of-type {\n",
              "        vertical-align: middle;\n",
              "    }\n",
              "\n",
              "    .dataframe tbody tr th {\n",
              "        vertical-align: top;\n",
              "    }\n",
              "\n",
              "    .dataframe thead th {\n",
              "        text-align: right;\n",
              "    }\n",
              "</style>\n",
              "<table border=\"1\" class=\"dataframe\">\n",
              "  <thead>\n",
              "    <tr style=\"text-align: right;\">\n",
              "      <th></th>\n",
              "      <th>last_update</th>\n",
              "      <th>state</th>\n",
              "      <th>pollutant_id</th>\n",
              "    </tr>\n",
              "  </thead>\n",
              "  <tbody>\n",
              "    <tr>\n",
              "      <th>0</th>\n",
              "      <td>14-10-2020 08:00:00</td>\n",
              "      <td>Andhra_Pradesh</td>\n",
              "      <td>PM2.5</td>\n",
              "    </tr>\n",
              "    <tr>\n",
              "      <th>7</th>\n",
              "      <td>14-10-2020 08:00:00</td>\n",
              "      <td>Andhra_Pradesh</td>\n",
              "      <td>PM2.5</td>\n",
              "    </tr>\n",
              "    <tr>\n",
              "      <th>14</th>\n",
              "      <td>14-10-2020 08:00:00</td>\n",
              "      <td>Andhra_Pradesh</td>\n",
              "      <td>PM2.5</td>\n",
              "    </tr>\n",
              "    <tr>\n",
              "      <th>28</th>\n",
              "      <td>14-10-2020 08:00:00</td>\n",
              "      <td>Assam</td>\n",
              "      <td>PM2.5</td>\n",
              "    </tr>\n",
              "    <tr>\n",
              "      <th>35</th>\n",
              "      <td>14-10-2020 08:00:00</td>\n",
              "      <td>Bihar</td>\n",
              "      <td>PM2.5</td>\n",
              "    </tr>\n",
              "  </tbody>\n",
              "</table>\n",
              "</div>"
            ],
            "text/plain": [
              "            last_update           state pollutant_id\n",
              "0   14-10-2020 08:00:00  Andhra_Pradesh        PM2.5\n",
              "7   14-10-2020 08:00:00  Andhra_Pradesh        PM2.5\n",
              "14  14-10-2020 08:00:00  Andhra_Pradesh        PM2.5\n",
              "28  14-10-2020 08:00:00           Assam        PM2.5\n",
              "35  14-10-2020 08:00:00           Bihar        PM2.5"
            ]
          },
          "metadata": {
            "tags": []
          },
          "execution_count": 52
        }
      ]
    },
    {
      "cell_type": "markdown",
      "metadata": {
        "id": "BRKlvGxizv3R"
      },
      "source": [
        "#PM10"
      ]
    },
    {
      "cell_type": "code",
      "metadata": {
        "id": "kZqxi5IZyABf"
      },
      "source": [
        "df4 = df2[df2['pollutant_id']=='PM10']"
      ],
      "execution_count": 53,
      "outputs": []
    },
    {
      "cell_type": "code",
      "metadata": {
        "id": "u5U8w7k2zen9",
        "outputId": "5eb3977d-42e3-4248-bd20-61354c246419",
        "colab": {
          "base_uri": "https://localhost:8080/",
          "height": 206
        }
      },
      "source": [
        "df4.head()"
      ],
      "execution_count": 54,
      "outputs": [
        {
          "output_type": "execute_result",
          "data": {
            "text/html": [
              "<div>\n",
              "<style scoped>\n",
              "    .dataframe tbody tr th:only-of-type {\n",
              "        vertical-align: middle;\n",
              "    }\n",
              "\n",
              "    .dataframe tbody tr th {\n",
              "        vertical-align: top;\n",
              "    }\n",
              "\n",
              "    .dataframe thead th {\n",
              "        text-align: right;\n",
              "    }\n",
              "</style>\n",
              "<table border=\"1\" class=\"dataframe\">\n",
              "  <thead>\n",
              "    <tr style=\"text-align: right;\">\n",
              "      <th></th>\n",
              "      <th>last_update</th>\n",
              "      <th>state</th>\n",
              "      <th>pollutant_id</th>\n",
              "    </tr>\n",
              "  </thead>\n",
              "  <tbody>\n",
              "    <tr>\n",
              "      <th>1</th>\n",
              "      <td>14-10-2020 08:00:00</td>\n",
              "      <td>Andhra_Pradesh</td>\n",
              "      <td>PM10</td>\n",
              "    </tr>\n",
              "    <tr>\n",
              "      <th>8</th>\n",
              "      <td>14-10-2020 08:00:00</td>\n",
              "      <td>Andhra_Pradesh</td>\n",
              "      <td>PM10</td>\n",
              "    </tr>\n",
              "    <tr>\n",
              "      <th>15</th>\n",
              "      <td>14-10-2020 08:00:00</td>\n",
              "      <td>Andhra_Pradesh</td>\n",
              "      <td>PM10</td>\n",
              "    </tr>\n",
              "    <tr>\n",
              "      <th>29</th>\n",
              "      <td>14-10-2020 08:00:00</td>\n",
              "      <td>Assam</td>\n",
              "      <td>PM10</td>\n",
              "    </tr>\n",
              "    <tr>\n",
              "      <th>36</th>\n",
              "      <td>14-10-2020 08:00:00</td>\n",
              "      <td>Bihar</td>\n",
              "      <td>PM10</td>\n",
              "    </tr>\n",
              "  </tbody>\n",
              "</table>\n",
              "</div>"
            ],
            "text/plain": [
              "            last_update           state pollutant_id\n",
              "1   14-10-2020 08:00:00  Andhra_Pradesh         PM10\n",
              "8   14-10-2020 08:00:00  Andhra_Pradesh         PM10\n",
              "15  14-10-2020 08:00:00  Andhra_Pradesh         PM10\n",
              "29  14-10-2020 08:00:00           Assam         PM10\n",
              "36  14-10-2020 08:00:00           Bihar         PM10"
            ]
          },
          "metadata": {
            "tags": []
          },
          "execution_count": 54
        }
      ]
    },
    {
      "cell_type": "markdown",
      "metadata": {
        "id": "Dv7ZDki90TcN"
      },
      "source": [
        "#NO2"
      ]
    },
    {
      "cell_type": "code",
      "metadata": {
        "id": "tTq_uEYQyGYe"
      },
      "source": [
        "df5 = df2[df2['pollutant_id']=='NO2']"
      ],
      "execution_count": 55,
      "outputs": []
    },
    {
      "cell_type": "code",
      "metadata": {
        "id": "CdV3ffr90Hq_",
        "outputId": "4cafc17a-c43d-4549-900c-2c598a632b0d",
        "colab": {
          "base_uri": "https://localhost:8080/",
          "height": 206
        }
      },
      "source": [
        "df5.head()"
      ],
      "execution_count": 56,
      "outputs": [
        {
          "output_type": "execute_result",
          "data": {
            "text/html": [
              "<div>\n",
              "<style scoped>\n",
              "    .dataframe tbody tr th:only-of-type {\n",
              "        vertical-align: middle;\n",
              "    }\n",
              "\n",
              "    .dataframe tbody tr th {\n",
              "        vertical-align: top;\n",
              "    }\n",
              "\n",
              "    .dataframe thead th {\n",
              "        text-align: right;\n",
              "    }\n",
              "</style>\n",
              "<table border=\"1\" class=\"dataframe\">\n",
              "  <thead>\n",
              "    <tr style=\"text-align: right;\">\n",
              "      <th></th>\n",
              "      <th>last_update</th>\n",
              "      <th>state</th>\n",
              "      <th>pollutant_id</th>\n",
              "    </tr>\n",
              "  </thead>\n",
              "  <tbody>\n",
              "    <tr>\n",
              "      <th>2</th>\n",
              "      <td>14-10-2020 08:00:00</td>\n",
              "      <td>Andhra_Pradesh</td>\n",
              "      <td>NO2</td>\n",
              "    </tr>\n",
              "    <tr>\n",
              "      <th>9</th>\n",
              "      <td>14-10-2020 08:00:00</td>\n",
              "      <td>Andhra_Pradesh</td>\n",
              "      <td>NO2</td>\n",
              "    </tr>\n",
              "    <tr>\n",
              "      <th>16</th>\n",
              "      <td>14-10-2020 08:00:00</td>\n",
              "      <td>Andhra_Pradesh</td>\n",
              "      <td>NO2</td>\n",
              "    </tr>\n",
              "    <tr>\n",
              "      <th>30</th>\n",
              "      <td>14-10-2020 08:00:00</td>\n",
              "      <td>Assam</td>\n",
              "      <td>NO2</td>\n",
              "    </tr>\n",
              "    <tr>\n",
              "      <th>37</th>\n",
              "      <td>14-10-2020 08:00:00</td>\n",
              "      <td>Bihar</td>\n",
              "      <td>NO2</td>\n",
              "    </tr>\n",
              "  </tbody>\n",
              "</table>\n",
              "</div>"
            ],
            "text/plain": [
              "            last_update           state pollutant_id\n",
              "2   14-10-2020 08:00:00  Andhra_Pradesh          NO2\n",
              "9   14-10-2020 08:00:00  Andhra_Pradesh          NO2\n",
              "16  14-10-2020 08:00:00  Andhra_Pradesh          NO2\n",
              "30  14-10-2020 08:00:00           Assam          NO2\n",
              "37  14-10-2020 08:00:00           Bihar          NO2"
            ]
          },
          "metadata": {
            "tags": []
          },
          "execution_count": 56
        }
      ]
    },
    {
      "cell_type": "markdown",
      "metadata": {
        "id": "uHB_z7t10Wui"
      },
      "source": [
        "#NH3"
      ]
    },
    {
      "cell_type": "code",
      "metadata": {
        "id": "FvemRSpzyGS9"
      },
      "source": [
        "df6 = df2[df2['pollutant_id']=='NH3']"
      ],
      "execution_count": 57,
      "outputs": []
    },
    {
      "cell_type": "code",
      "metadata": {
        "id": "MknNde-e0ZQR",
        "outputId": "aa22b97f-51ac-4356-fc69-4d86951273fb",
        "colab": {
          "base_uri": "https://localhost:8080/",
          "height": 206
        }
      },
      "source": [
        "df6.head()"
      ],
      "execution_count": 58,
      "outputs": [
        {
          "output_type": "execute_result",
          "data": {
            "text/html": [
              "<div>\n",
              "<style scoped>\n",
              "    .dataframe tbody tr th:only-of-type {\n",
              "        vertical-align: middle;\n",
              "    }\n",
              "\n",
              "    .dataframe tbody tr th {\n",
              "        vertical-align: top;\n",
              "    }\n",
              "\n",
              "    .dataframe thead th {\n",
              "        text-align: right;\n",
              "    }\n",
              "</style>\n",
              "<table border=\"1\" class=\"dataframe\">\n",
              "  <thead>\n",
              "    <tr style=\"text-align: right;\">\n",
              "      <th></th>\n",
              "      <th>last_update</th>\n",
              "      <th>state</th>\n",
              "      <th>pollutant_id</th>\n",
              "    </tr>\n",
              "  </thead>\n",
              "  <tbody>\n",
              "    <tr>\n",
              "      <th>3</th>\n",
              "      <td>14-10-2020 08:00:00</td>\n",
              "      <td>Andhra_Pradesh</td>\n",
              "      <td>NH3</td>\n",
              "    </tr>\n",
              "    <tr>\n",
              "      <th>10</th>\n",
              "      <td>14-10-2020 08:00:00</td>\n",
              "      <td>Andhra_Pradesh</td>\n",
              "      <td>NH3</td>\n",
              "    </tr>\n",
              "    <tr>\n",
              "      <th>17</th>\n",
              "      <td>14-10-2020 08:00:00</td>\n",
              "      <td>Andhra_Pradesh</td>\n",
              "      <td>NH3</td>\n",
              "    </tr>\n",
              "    <tr>\n",
              "      <th>31</th>\n",
              "      <td>14-10-2020 08:00:00</td>\n",
              "      <td>Assam</td>\n",
              "      <td>NH3</td>\n",
              "    </tr>\n",
              "    <tr>\n",
              "      <th>38</th>\n",
              "      <td>14-10-2020 08:00:00</td>\n",
              "      <td>Bihar</td>\n",
              "      <td>NH3</td>\n",
              "    </tr>\n",
              "  </tbody>\n",
              "</table>\n",
              "</div>"
            ],
            "text/plain": [
              "            last_update           state pollutant_id\n",
              "3   14-10-2020 08:00:00  Andhra_Pradesh          NH3\n",
              "10  14-10-2020 08:00:00  Andhra_Pradesh          NH3\n",
              "17  14-10-2020 08:00:00  Andhra_Pradesh          NH3\n",
              "31  14-10-2020 08:00:00           Assam          NH3\n",
              "38  14-10-2020 08:00:00           Bihar          NH3"
            ]
          },
          "metadata": {
            "tags": []
          },
          "execution_count": 58
        }
      ]
    },
    {
      "cell_type": "markdown",
      "metadata": {
        "id": "DguOP_720m6W"
      },
      "source": [
        "#SO2"
      ]
    },
    {
      "cell_type": "code",
      "metadata": {
        "id": "j-vZS3NayGJ6"
      },
      "source": [
        "df7 = df2[df2['pollutant_id']=='SO2']"
      ],
      "execution_count": 59,
      "outputs": []
    },
    {
      "cell_type": "code",
      "metadata": {
        "id": "SyayKrZS0qM1",
        "outputId": "7218e7f6-7418-49bb-aa84-6bf5a5df189a",
        "colab": {
          "base_uri": "https://localhost:8080/",
          "height": 206
        }
      },
      "source": [
        "df7.head()"
      ],
      "execution_count": 60,
      "outputs": [
        {
          "output_type": "execute_result",
          "data": {
            "text/html": [
              "<div>\n",
              "<style scoped>\n",
              "    .dataframe tbody tr th:only-of-type {\n",
              "        vertical-align: middle;\n",
              "    }\n",
              "\n",
              "    .dataframe tbody tr th {\n",
              "        vertical-align: top;\n",
              "    }\n",
              "\n",
              "    .dataframe thead th {\n",
              "        text-align: right;\n",
              "    }\n",
              "</style>\n",
              "<table border=\"1\" class=\"dataframe\">\n",
              "  <thead>\n",
              "    <tr style=\"text-align: right;\">\n",
              "      <th></th>\n",
              "      <th>last_update</th>\n",
              "      <th>state</th>\n",
              "      <th>pollutant_id</th>\n",
              "    </tr>\n",
              "  </thead>\n",
              "  <tbody>\n",
              "    <tr>\n",
              "      <th>4</th>\n",
              "      <td>14-10-2020 08:00:00</td>\n",
              "      <td>Andhra_Pradesh</td>\n",
              "      <td>SO2</td>\n",
              "    </tr>\n",
              "    <tr>\n",
              "      <th>11</th>\n",
              "      <td>14-10-2020 08:00:00</td>\n",
              "      <td>Andhra_Pradesh</td>\n",
              "      <td>SO2</td>\n",
              "    </tr>\n",
              "    <tr>\n",
              "      <th>18</th>\n",
              "      <td>14-10-2020 08:00:00</td>\n",
              "      <td>Andhra_Pradesh</td>\n",
              "      <td>SO2</td>\n",
              "    </tr>\n",
              "    <tr>\n",
              "      <th>32</th>\n",
              "      <td>14-10-2020 08:00:00</td>\n",
              "      <td>Assam</td>\n",
              "      <td>SO2</td>\n",
              "    </tr>\n",
              "    <tr>\n",
              "      <th>39</th>\n",
              "      <td>14-10-2020 08:00:00</td>\n",
              "      <td>Bihar</td>\n",
              "      <td>SO2</td>\n",
              "    </tr>\n",
              "  </tbody>\n",
              "</table>\n",
              "</div>"
            ],
            "text/plain": [
              "            last_update           state pollutant_id\n",
              "4   14-10-2020 08:00:00  Andhra_Pradesh          SO2\n",
              "11  14-10-2020 08:00:00  Andhra_Pradesh          SO2\n",
              "18  14-10-2020 08:00:00  Andhra_Pradesh          SO2\n",
              "32  14-10-2020 08:00:00           Assam          SO2\n",
              "39  14-10-2020 08:00:00           Bihar          SO2"
            ]
          },
          "metadata": {
            "tags": []
          },
          "execution_count": 60
        }
      ]
    },
    {
      "cell_type": "markdown",
      "metadata": {
        "id": "ngmKQ-Hp0yzC"
      },
      "source": [
        "#CO"
      ]
    },
    {
      "cell_type": "code",
      "metadata": {
        "id": "Pzls7FrkyLSt"
      },
      "source": [
        "df8 = df2[df2['pollutant_id']=='CO']"
      ],
      "execution_count": 61,
      "outputs": []
    },
    {
      "cell_type": "code",
      "metadata": {
        "id": "KtDtEbuv01sM",
        "outputId": "a2d9090a-c7cd-4c58-ecc3-71b38f12daea",
        "colab": {
          "base_uri": "https://localhost:8080/",
          "height": 206
        }
      },
      "source": [
        "df8.head()"
      ],
      "execution_count": 62,
      "outputs": [
        {
          "output_type": "execute_result",
          "data": {
            "text/html": [
              "<div>\n",
              "<style scoped>\n",
              "    .dataframe tbody tr th:only-of-type {\n",
              "        vertical-align: middle;\n",
              "    }\n",
              "\n",
              "    .dataframe tbody tr th {\n",
              "        vertical-align: top;\n",
              "    }\n",
              "\n",
              "    .dataframe thead th {\n",
              "        text-align: right;\n",
              "    }\n",
              "</style>\n",
              "<table border=\"1\" class=\"dataframe\">\n",
              "  <thead>\n",
              "    <tr style=\"text-align: right;\">\n",
              "      <th></th>\n",
              "      <th>last_update</th>\n",
              "      <th>state</th>\n",
              "      <th>pollutant_id</th>\n",
              "    </tr>\n",
              "  </thead>\n",
              "  <tbody>\n",
              "    <tr>\n",
              "      <th>5</th>\n",
              "      <td>14-10-2020 08:00:00</td>\n",
              "      <td>Andhra_Pradesh</td>\n",
              "      <td>CO</td>\n",
              "    </tr>\n",
              "    <tr>\n",
              "      <th>12</th>\n",
              "      <td>14-10-2020 08:00:00</td>\n",
              "      <td>Andhra_Pradesh</td>\n",
              "      <td>CO</td>\n",
              "    </tr>\n",
              "    <tr>\n",
              "      <th>19</th>\n",
              "      <td>14-10-2020 08:00:00</td>\n",
              "      <td>Andhra_Pradesh</td>\n",
              "      <td>CO</td>\n",
              "    </tr>\n",
              "    <tr>\n",
              "      <th>26</th>\n",
              "      <td>14-10-2020 08:00:00</td>\n",
              "      <td>Andhra_Pradesh</td>\n",
              "      <td>CO</td>\n",
              "    </tr>\n",
              "    <tr>\n",
              "      <th>33</th>\n",
              "      <td>14-10-2020 08:00:00</td>\n",
              "      <td>Assam</td>\n",
              "      <td>CO</td>\n",
              "    </tr>\n",
              "  </tbody>\n",
              "</table>\n",
              "</div>"
            ],
            "text/plain": [
              "            last_update           state pollutant_id\n",
              "5   14-10-2020 08:00:00  Andhra_Pradesh           CO\n",
              "12  14-10-2020 08:00:00  Andhra_Pradesh           CO\n",
              "19  14-10-2020 08:00:00  Andhra_Pradesh           CO\n",
              "26  14-10-2020 08:00:00  Andhra_Pradesh           CO\n",
              "33  14-10-2020 08:00:00           Assam           CO"
            ]
          },
          "metadata": {
            "tags": []
          },
          "execution_count": 62
        }
      ]
    },
    {
      "cell_type": "markdown",
      "metadata": {
        "id": "sLBPm-d90_Ht"
      },
      "source": [
        "#OZONE"
      ]
    },
    {
      "cell_type": "code",
      "metadata": {
        "id": "ZWlBM9mqyN_H"
      },
      "source": [
        "df9 = df2[df2['pollutant_id']=='OZONE']"
      ],
      "execution_count": 63,
      "outputs": []
    },
    {
      "cell_type": "code",
      "metadata": {
        "id": "hVl-3x6S1EQM",
        "outputId": "748fec18-f819-46cc-ffa2-7ee4d4f5f8be",
        "colab": {
          "base_uri": "https://localhost:8080/",
          "height": 206
        }
      },
      "source": [
        "df9.head()"
      ],
      "execution_count": 64,
      "outputs": [
        {
          "output_type": "execute_result",
          "data": {
            "text/html": [
              "<div>\n",
              "<style scoped>\n",
              "    .dataframe tbody tr th:only-of-type {\n",
              "        vertical-align: middle;\n",
              "    }\n",
              "\n",
              "    .dataframe tbody tr th {\n",
              "        vertical-align: top;\n",
              "    }\n",
              "\n",
              "    .dataframe thead th {\n",
              "        text-align: right;\n",
              "    }\n",
              "</style>\n",
              "<table border=\"1\" class=\"dataframe\">\n",
              "  <thead>\n",
              "    <tr style=\"text-align: right;\">\n",
              "      <th></th>\n",
              "      <th>last_update</th>\n",
              "      <th>state</th>\n",
              "      <th>pollutant_id</th>\n",
              "    </tr>\n",
              "  </thead>\n",
              "  <tbody>\n",
              "    <tr>\n",
              "      <th>6</th>\n",
              "      <td>14-10-2020 08:00:00</td>\n",
              "      <td>Andhra_Pradesh</td>\n",
              "      <td>OZONE</td>\n",
              "    </tr>\n",
              "    <tr>\n",
              "      <th>13</th>\n",
              "      <td>14-10-2020 08:00:00</td>\n",
              "      <td>Andhra_Pradesh</td>\n",
              "      <td>OZONE</td>\n",
              "    </tr>\n",
              "    <tr>\n",
              "      <th>20</th>\n",
              "      <td>14-10-2020 08:00:00</td>\n",
              "      <td>Andhra_Pradesh</td>\n",
              "      <td>OZONE</td>\n",
              "    </tr>\n",
              "    <tr>\n",
              "      <th>27</th>\n",
              "      <td>14-10-2020 08:00:00</td>\n",
              "      <td>Andhra_Pradesh</td>\n",
              "      <td>OZONE</td>\n",
              "    </tr>\n",
              "    <tr>\n",
              "      <th>34</th>\n",
              "      <td>14-10-2020 08:00:00</td>\n",
              "      <td>Assam</td>\n",
              "      <td>OZONE</td>\n",
              "    </tr>\n",
              "  </tbody>\n",
              "</table>\n",
              "</div>"
            ],
            "text/plain": [
              "            last_update           state pollutant_id\n",
              "6   14-10-2020 08:00:00  Andhra_Pradesh        OZONE\n",
              "13  14-10-2020 08:00:00  Andhra_Pradesh        OZONE\n",
              "20  14-10-2020 08:00:00  Andhra_Pradesh        OZONE\n",
              "27  14-10-2020 08:00:00  Andhra_Pradesh        OZONE\n",
              "34  14-10-2020 08:00:00           Assam        OZONE"
            ]
          },
          "metadata": {
            "tags": []
          },
          "execution_count": 64
        }
      ]
    },
    {
      "cell_type": "code",
      "metadata": {
        "id": "SEEfk_fNwfEw"
      },
      "source": [
        ""
      ],
      "execution_count": 64,
      "outputs": []
    }
  ]
}